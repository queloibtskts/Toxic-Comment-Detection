{
 "cells": [
  {
   "cell_type": "code",
   "execution_count": null,
   "metadata": {},
   "outputs": [],
   "source": [
    "%autosave 120\n",
    "import warnings\n",
    "warnings.filterwarnings(\"ignore\")"
   ]
  },
  {
   "cell_type": "code",
   "execution_count": null,
   "metadata": {},
   "outputs": [],
   "source": [
    "import pandas as pd\n",
    "#import spacy\n",
    "#pip install nltk\n",
    "from nltk.tokenize import word_tokenize\n",
    "import numpy as np\n",
    "#import en_core_web_sm\n",
    "from sklearn.feature_selection import SelectKBest, chi2\n",
    "from sklearn.model_selection import GridSearchCV\n",
    "from sklearn.feature_selection import mutual_info_classif, f_classif\n",
    "from sklearn.model_selection import cross_validate, cross_val_score, cross_val_predict\n",
    "from sklearn.naive_bayes import BernoulliNB, MultinomialNB\n",
    "from sklearn import svm\n",
    "from sklearn.model_selection import GridSearchCV\n",
    "from sklearn.feature_extraction.text import CountVectorizer, TfidfVectorizer\n",
    "from sklearn.model_selection import train_test_split\n",
    "from sklearn.pipeline import Pipeline\n",
    "from pprint import pprint\n",
    "from time import time\n",
    "from sklearn.linear_model import SGDClassifier\n",
    "from sklearn import metrics\n",
    "from sklearn.metrics import f1_score, accuracy_score, precision_score, recall_score\n",
    "from collections import defaultdict"
   ]
  },
  {
   "cell_type": "markdown",
   "metadata": {},
   "source": [
    "# Load Data"
   ]
  },
  {
   "cell_type": "code",
   "execution_count": null,
   "metadata": {},
   "outputs": [],
   "source": [
    "comments = pd.read_csv(\"data/comments_preprocessed_final.csv\")\n",
    "comments_50k = comments.iloc[:50000,]\n"
   ]
  },
  {
   "cell_type": "markdown",
   "metadata": {},
   "source": [
    "# Naive Bayes"
   ]
  },
  {
   "cell_type": "code",
   "execution_count": null,
   "metadata": {},
   "outputs": [],
   "source": [
    "X_50k = comments_50k.comment_text\n",
    "y_50k = comments_50k.target\n",
    "X = comments.comment_text\n",
    "y = comments.target\n"
   ]
  },
  {
   "cell_type": "code",
   "execution_count": null,
   "metadata": {},
   "outputs": [],
   "source": [
    "percent = 0.8\n",
    "train_size = int(X.shape[0] * percent)\n",
    "X_train = X.iloc[:train_size,]\n",
    "X_valid = X.iloc[train_size:,]\n",
    "y_train = y.iloc[:train_size,]\n",
    "y_valid = y.iloc[train_size:,]\n"
   ]
  },
  {
   "cell_type": "code",
   "execution_count": null,
   "metadata": {},
   "outputs": [],
   "source": [
    "# use count vectorizer\n",
    "# partly retreived from https://www.kaggle.com/catris25/multinomial-naive-bayes-with-countvectorizer\n",
    "\n",
    "vectorizer = CountVectorizer()\n",
    "\n",
    "X_train_cv = vectorizer.fit_transform(X_train)\n",
    "X_valid_cv = vectorizer.transform(X_valid)\n",
    "\n",
    "mnb = MultinomialNB()\n",
    "mnb.fit(X_train_cv, y_train)\n",
    "y_pred_nb = mnb.predict(X_valid_cv)\n",
    "\n",
    "print(\"Accuracy:\",metrics.accuracy_score(y_valid, y_pred_nb))\n"
   ]
  },
  {
   "cell_type": "code",
   "execution_count": null,
   "metadata": {},
   "outputs": [],
   "source": [
    "# output nb with cv csv\n",
    "y_pred_nb_df = pd.DataFrame({'pred':y_pred_nb, 'id': list(y_valid.index)})\n",
    "y_result = y_pred_nb_df.merge(y_valid, left_on='id', right_on=y_valid.index).set_index('id')\n",
    "y_result.to_csv('result_nb_8-2.csv')"
   ]
  },
  {
   "cell_type": "code",
   "execution_count": null,
   "metadata": {},
   "outputs": [],
   "source": [
    "print('------------------------------')\n",
    "print('Result for Multinomial Naive Bayes')\n",
    "accuracy = round(accuracy_score(y_valid, y_pred_nb), 4)\n",
    "print('Accuracy: %.4f' % accuracy)\n",
    "precision = round(precision_score(y_valid, y_pred_nb), 4)\n",
    "print('Precision: %.4f' % precision)\n",
    "recall = round(recall_score(y_valid, y_pred_nb), 4)\n",
    "print('Recall: %.4f' % recall)\n",
    "score = round(f1_score(y_valid, y_pred_nb), 4)\n",
    "print('F1_score: %.4f' % score)\n",
    "print('------------------------------')"
   ]
  },
  {
   "cell_type": "markdown",
   "metadata": {},
   "source": [
    "# Plain SVM"
   ]
  },
  {
   "cell_type": "code",
   "execution_count": null,
   "metadata": {},
   "outputs": [],
   "source": [
    "percent = 0.8\n",
    "train_size = int(X.shape[0] * percent)\n",
    "X_train = X.iloc[:train_size,]\n",
    "X_valid = X.iloc[train_size:,]\n",
    "y_train = y.iloc[:train_size,]\n",
    "y_valid = y.iloc[train_size:,]\n"
   ]
  },
  {
   "cell_type": "code",
   "execution_count": null,
   "metadata": {},
   "outputs": [],
   "source": [
    "\"\"\" Title: Sample pipeline for text feature extraction and evaluation\n",
    "Author: No Specifc Author\n",
    "Reference Date: 2020 Oct 15th\n",
    "Availability: https://scikit-learn.org/stable/auto_examples/model_selection/grid_search_text_feature_extraction.html \"\"\"\n",
    "pipeline = Pipeline([\n",
    "                    ('tfidf', TfidfVectorizer()), \n",
    "                    ('SVC', svm.SVC()), \n",
    "                    ])\n",
    "parameters = {\n",
    "    'tfidf__stop_words': ['english'],\n",
    "    'tfidf__max_features': [1000, 5000, 10000, 50000],\n",
    "    'tfidf__ngram_range': [(1, 1), (1, 2)],\n",
    "    'SVC__C': [1e-2, 1e-1, 1e0, 1e1, 1e2],\n",
    "    'SVC__kernel': ['linear'],\n",
    "    'SVC__gamma': ['auto'],\n",
    "    'SVC__max_iter': [5e2, 1e3, 5e3]\n",
    "}\n",
    "\n",
    "if __name__ == '__main__':\n",
    "    grid_search=GridSearchCV(pipeline, parameters, cv=5, n_jobs=-1, verbose=10)\n",
    "    \n",
    "    print(\"Performing grid search...\")\n",
    "    print(\"pipeline:\", [name for name, _ in pipeline.steps])\n",
    "    print(\"parameters:\")\n",
    "    pprint(parameters)\n",
    "    t0 = time()\n",
    "    \n",
    "    grid_search.fit(X, y)\n",
    "    \n",
    "    print(\"done in %0.3fmin\" % ((time() - t0)/60))\n",
    "    print()\n",
    "    \n",
    "    results = grid_search.cv_results_\n",
    "    test_scores = results['mean_test_score']\n",
    "    params = results['params']\n",
    "    rank = results['rank_test_score']\n",
    "    \n",
    "    print(\"best score: %0.4f\" % grid_search.best_score_)\n",
    "    best_parameters = grid_search.best_estimator_.get_params()\n",
    "    print(\"Best parameters set: \")\n",
    "    for param_name in sorted(parameters.keys()):\n",
    "        print(\"\\t%s: %r\" % (param_name, best_parameters[param_name]))\n",
    "\n",
    "    #print(\"Top 5 best parameter sets based on accuracy score: \")\n",
    "    #list(np.take(params,list(rank.argsort()[:5])))\n",
    "    \n",
    "    \n"
   ]
  },
  {
   "cell_type": "code",
   "execution_count": null,
   "metadata": {},
   "outputs": [],
   "source": [
    "# use optimal parameters for SVM\n",
    "tf_vectorizer_svm = TfidfVectorizer(max_features=50000, ngram_range = (1, 2), stop_words = 'english')\n",
    "tf_vectorizer_svm.fit(X_train)\n",
    "X_train_svm = tf_vectorizer_svm.transform(X_train)\n",
    "X_valid_svm = tf_vectorizer_svm.transform(X_valid)\n",
    "\n",
    "SVM = svm.SVC(C=10, kernel='linear', gamma='auto', max_iter = 1000)\n",
    "SVM.fit(X_train_svm,y_train)\n",
    "y_pred_svm = SVM.predict(X_valid_svm)\n",
    "print(\"SVM Accuracy Score -> \",accuracy_score(y_valid, y_pred_svm)*100)\n"
   ]
  },
  {
   "cell_type": "code",
   "execution_count": null,
   "metadata": {},
   "outputs": [],
   "source": [
    "print('------------------------------')\n",
    "print('Result for Support Vector Machine')\n",
    "accuracy = accuracy_score(y_valid, y_pred_svm)\n",
    "print('Accuracy: %.4f' % accuracy)\n",
    "precision = precision_score(y_valid, y_pred_svm)\n",
    "print('Precision: %.4f' % precision)\n",
    "recall = recall_score(y_valid, y_pred_svm)\n",
    "print('Recall: %.4f' % recall)\n",
    "score = f1_score(y_valid, y_pred_svm)\n",
    "print('F1_score: %.4f' % score)\n",
    "print('------------------------------')"
   ]
  },
  {
   "cell_type": "code",
   "execution_count": null,
   "metadata": {},
   "outputs": [],
   "source": [
    "# output csv\n",
    "y_pred_svm_df = pd.DataFrame({'pred':y_pred_svm, 'id': list(y_valid.index)})\n",
    "y_result = y_pred_svm_df.merge(y_valid, left_on='id', right_on=y_valid.index).set_index('id')\n",
    "y_result.to_csv('result_svm_8-2.csv')"
   ]
  }
 ],
 "metadata": {
  "kernelspec": {
   "display_name": "Python 3",
   "language": "python",
   "name": "python3"
  },
  "language_info": {
   "codemirror_mode": {
    "name": "ipython",
    "version": 3
   },
   "file_extension": ".py",
   "mimetype": "text/x-python",
   "name": "python",
   "nbconvert_exporter": "python",
   "pygments_lexer": "ipython3",
   "version": "3.7.6"
  }
 },
 "nbformat": 4,
 "nbformat_minor": 4
}
