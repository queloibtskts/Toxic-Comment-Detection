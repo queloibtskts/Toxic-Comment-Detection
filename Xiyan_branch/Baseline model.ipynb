{
 "cells": [
  {
   "cell_type": "code",
   "execution_count": 34,
   "metadata": {},
   "outputs": [],
   "source": [
    "import numpy as np\n",
    "import pandas as pd\n",
    "from sklearn.model_selection import train_test_split\n",
    "from sklearn.naive_bayes import GaussianNB as GNB\n",
    "from sklearn.naive_bayes import BernoulliNB as BNB\n",
    "from sklearn.naive_bayes import MultinomialNB as MNB\n",
    "from sklearn.feature_extraction.text import CountVectorizer"
   ]
  },
  {
   "cell_type": "code",
   "execution_count": 37,
   "metadata": {},
   "outputs": [
    {
     "data": {
      "text/plain": [
       "(5000, 45)"
      ]
     },
     "execution_count": 37,
     "metadata": {},
     "output_type": "execute_result"
    }
   ],
   "source": [
    "train = pd.read_csv(\"../../data/train.csv\")\n",
    "train_5k = train.iloc[:5000,:]\n"
   ]
  },
  {
   "cell_type": "code",
   "execution_count": 50,
   "metadata": {},
   "outputs": [
    {
     "data": {
      "text/plain": [
       "(5000, 45)"
      ]
     },
     "execution_count": 50,
     "metadata": {},
     "output_type": "execute_result"
    }
   ],
   "source": [
    "train_5k.shape"
   ]
  },
  {
   "cell_type": "code",
   "execution_count": 51,
   "metadata": {},
   "outputs": [],
   "source": [
    "corpus = train_5k['comment_text']\n",
    "vectorizer = CountVectorizer(stop_words = \"english\", ngram_range = (1,2), max_features = 10000)\n",
    "X_sparse = vectorizer.fit_transform(corpus)\n"
   ]
  },
  {
   "cell_type": "code",
   "execution_count": 40,
   "metadata": {},
   "outputs": [
    {
     "name": "stdout",
     "output_type": "stream",
     "text": [
      "  (0, 1971)\t1\n",
      "  (0, 5119)\t1\n",
      "  (0, 9642)\t1\n",
      "  (0, 5721)\t1\n",
      "  (0, 7216)\t1\n",
      "  (0, 7255)\t1\n",
      "  (0, 3892)\t1\n",
      "  (0, 4367)\t1\n",
      "  (0, 3894)\t1\n",
      "  (1, 8934)\t1\n",
      "  (1, 5369)\t1\n",
      "  (1, 5105)\t1\n",
      "  (1, 5309)\t1\n",
      "  (1, 517)\t1\n",
      "  (1, 2713)\t1\n",
      "  (1, 5055)\t1\n",
      "  (1, 9706)\t1\n",
      "  (1, 5067)\t1\n",
      "  (2, 9432)\t1\n",
      "  (2, 2400)\t1\n",
      "  (2, 6947)\t1\n",
      "  (2, 4901)\t1\n",
      "  (2, 8791)\t1\n",
      "  (2, 4456)\t1\n",
      "  (3, 5224)\t1\n",
      "  :\t:\n",
      "  (4998, 4556)\t1\n",
      "  (4998, 4173)\t2\n",
      "  (4998, 348)\t2\n",
      "  (4998, 1009)\t2\n",
      "  (4999, 7255)\t1\n",
      "  (4999, 5865)\t1\n",
      "  (4999, 4657)\t1\n",
      "  (4999, 5978)\t2\n",
      "  (4999, 6166)\t1\n",
      "  (4999, 8820)\t2\n",
      "  (4999, 7106)\t1\n",
      "  (4999, 2702)\t1\n",
      "  (4999, 5074)\t1\n",
      "  (4999, 8861)\t1\n",
      "  (4999, 8855)\t1\n",
      "  (4999, 9665)\t1\n",
      "  (4999, 5301)\t1\n",
      "  (4999, 9282)\t1\n",
      "  (4999, 3291)\t4\n",
      "  (4999, 6899)\t1\n",
      "  (4999, 2048)\t3\n",
      "  (4999, 2371)\t1\n",
      "  (4999, 8904)\t4\n",
      "  (4999, 8905)\t4\n",
      "  (4999, 5982)\t2\n"
     ]
    }
   ],
   "source": [
    "#print(X)"
   ]
  },
  {
   "cell_type": "code",
   "execution_count": 30,
   "metadata": {},
   "outputs": [
    {
     "data": {
      "text/plain": [
       "id                                       int64\n",
       "target                                 float64\n",
       "comment_text                            object\n",
       "severe_toxicity                        float64\n",
       "obscene                                float64\n",
       "identity_attack                        float64\n",
       "insult                                 float64\n",
       "threat                                 float64\n",
       "asian                                  float64\n",
       "atheist                                float64\n",
       "bisexual                               float64\n",
       "black                                  float64\n",
       "buddhist                               float64\n",
       "christian                              float64\n",
       "female                                 float64\n",
       "heterosexual                           float64\n",
       "hindu                                  float64\n",
       "homosexual_gay_or_lesbian              float64\n",
       "intellectual_or_learning_disability    float64\n",
       "jewish                                 float64\n",
       "latino                                 float64\n",
       "male                                   float64\n",
       "muslim                                 float64\n",
       "other_disability                       float64\n",
       "other_gender                           float64\n",
       "other_race_or_ethnicity                float64\n",
       "other_religion                         float64\n",
       "other_sexual_orientation               float64\n",
       "physical_disability                    float64\n",
       "psychiatric_or_mental_illness          float64\n",
       "transgender                            float64\n",
       "white                                  float64\n",
       "created_date                            object\n",
       "publication_id                           int64\n",
       "parent_id                              float64\n",
       "article_id                               int64\n",
       "rating                                  object\n",
       "funny                                    int64\n",
       "wow                                      int64\n",
       "sad                                      int64\n",
       "likes                                    int64\n",
       "disagree                                 int64\n",
       "sexual_explicit                        float64\n",
       "identity_annotator_count                 int64\n",
       "toxicity_annotator_count                 int64\n",
       "dtype: object"
      ]
     },
     "execution_count": 30,
     "metadata": {},
     "output_type": "execute_result"
    }
   ],
   "source": [
    "#train.dtypes"
   ]
  },
  {
   "cell_type": "markdown",
   "metadata": {},
   "source": [
    "# Baseline model - Naïve Bayes"
   ]
  },
  {
   "cell_type": "code",
   "execution_count": 18,
   "metadata": {},
   "outputs": [
    {
     "data": {
      "text/plain": [
       "489571     0.000000\n",
       "1568486    0.166667\n",
       "127435     0.000000\n",
       "366133     0.000000\n",
       "286403     0.000000\n",
       "Name: target, dtype: float64"
      ]
     },
     "execution_count": 18,
     "metadata": {},
     "output_type": "execute_result"
    }
   ],
   "source": [
    "#y_train.head(5)"
   ]
  },
  {
   "cell_type": "code",
   "execution_count": 62,
   "metadata": {},
   "outputs": [],
   "source": [
    "#print(sparse_train)"
   ]
  },
  {
   "cell_type": "code",
   "execution_count": 63,
   "metadata": {},
   "outputs": [],
   "source": [
    "#print(y_train)"
   ]
  },
  {
   "cell_type": "code",
   "execution_count": 64,
   "metadata": {},
   "outputs": [],
   "source": [
    "\n",
    "sparse_train, sparse_valid, y_train, y_valid = train_test_split(X_sparse,y,test_size=0.3,random_state=21)\n",
    "mnb = MNB().fit(sparse_train,y_train)\n",
    "\n",
    "mnb.score(sparse_train,y_train), mnb.score(sparse_valid,y_valid)"
   ]
  },
  {
   "cell_type": "code",
   "execution_count": null,
   "metadata": {},
   "outputs": [],
   "source": []
  },
  {
   "cell_type": "code",
   "execution_count": null,
   "metadata": {},
   "outputs": [],
   "source": []
  },
  {
   "cell_type": "code",
   "execution_count": null,
   "metadata": {},
   "outputs": [],
   "source": []
  },
  {
   "cell_type": "code",
   "execution_count": null,
   "metadata": {},
   "outputs": [],
   "source": []
  },
  {
   "cell_type": "code",
   "execution_count": null,
   "metadata": {},
   "outputs": [],
   "source": []
  }
 ],
 "metadata": {
  "kernelspec": {
   "display_name": "Python 3",
   "language": "python",
   "name": "python3"
  },
  "language_info": {
   "codemirror_mode": {
    "name": "ipython",
    "version": 3
   },
   "file_extension": ".py",
   "mimetype": "text/x-python",
   "name": "python",
   "nbconvert_exporter": "python",
   "pygments_lexer": "ipython3",
   "version": "3.7.6"
  }
 },
 "nbformat": 4,
 "nbformat_minor": 4
}
