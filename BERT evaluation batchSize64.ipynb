{
 "cells": [
  {
   "cell_type": "code",
   "execution_count": 1,
   "metadata": {},
   "outputs": [],
   "source": [
    "import pandas as pd\n",
    "from sklearn.metrics import accuracy_score, f1_score, recall_score, precision_score\n",
    "import numpy as np"
   ]
  },
  {
   "cell_type": "code",
   "execution_count": 58,
   "metadata": {},
   "outputs": [],
   "source": [
    "output = pd.read_csv('actual_prediction64v2.csv')\n",
    "original_df = pd.read_csv('train copy.csv')"
   ]
  },
  {
   "cell_type": "code",
   "execution_count": 59,
   "metadata": {},
   "outputs": [],
   "source": [
    "original_df = original_df.set_index('id').copy()"
   ]
  },
  {
   "cell_type": "code",
   "execution_count": 71,
   "metadata": {},
   "outputs": [],
   "source": [
    "output = output.set_index('id')"
   ]
  },
  {
   "cell_type": "code",
   "execution_count": 73,
   "metadata": {},
   "outputs": [],
   "source": [
    "meta_data = original_df.loc[output.index]"
   ]
  },
  {
   "cell_type": "code",
   "execution_count": 75,
   "metadata": {},
   "outputs": [
    {
     "name": "stdout",
     "output_type": "stream",
     "text": [
      "              precision    recall  f1-score   support\n",
      "\n",
      "           0     0.9599    0.9762    0.9680    324008\n",
      "           1     0.6719    0.5440    0.6012     28976\n",
      "\n",
      "    accuracy                         0.9408    352984\n",
      "   macro avg     0.8159    0.7601    0.7846    352984\n",
      "weighted avg     0.9363    0.9408    0.9379    352984\n",
      "\n"
     ]
    }
   ],
   "source": [
    "from sklearn.metrics import confusion_matrix, classification_report\n",
    "print(classification_report(output['label'], output['y_pred'], digits=4))"
   ]
  },
  {
   "cell_type": "code",
   "execution_count": 76,
   "metadata": {},
   "outputs": [],
   "source": [
    "def perf_measure(y_hat, y_actual):\n",
    "    y_actual = y_actual.to_list()\n",
    "    y_hat = y_hat.to_list()\n",
    "    TP = 0\n",
    "    FP = 0\n",
    "    TN = 0\n",
    "    FN = 0\n",
    "\n",
    "    for i in range(len(y_hat)): \n",
    "        if y_actual[i]==y_hat[i]==1:\n",
    "               TP += 1\n",
    "        if y_hat[i]==1 and y_actual[i]!=y_hat[i]:\n",
    "               FP += 1\n",
    "        if y_actual[i]==y_hat[i]==0:\n",
    "               TN += 1\n",
    "        if y_hat[i]==0 and y_actual[i]!=y_hat[i]:\n",
    "               FN += 1\n",
    "\n",
    "    return(TP, FP, TN, FN)"
   ]
  },
  {
   "cell_type": "code",
   "execution_count": 77,
   "metadata": {},
   "outputs": [
    {
     "name": "stdout",
     "output_type": "stream",
     "text": [
      "accuracy: 0.8987\n",
      "precision: 0.6929\n",
      "recall: 0.4509\n",
      "f1: 0.5463\n",
      "false alarm rate =  0.0313\n"
     ]
    }
   ],
   "source": [
    "result_female = output[meta_data.female.apply(lambda x:x>=0.5)]\n",
    "(TP, FP, TN, FN) = perf_measure(result_female.y_pred, result_female.label)\n",
    "print('accuracy:', round(accuracy_score(result_female.label, result_female.y_pred), 4))\n",
    "print('precision:',round(precision_score(result_female.label, result_female.y_pred), 4))\n",
    "print('recall:', round(recall_score(result_female.label, result_female.y_pred), 4))\n",
    "print('f1:', round(f1_score(result_female.label, result_female.y_pred), 4))\n",
    "print('false alarm rate = ', round(FP/(FP+TN), 4))"
   ]
  },
  {
   "cell_type": "code",
   "execution_count": 78,
   "metadata": {},
   "outputs": [
    {
     "name": "stdout",
     "output_type": "stream",
     "text": [
      "accuracy: 0.8825\n",
      "precision: 0.6551\n",
      "recall: 0.4704\n",
      "f1: 0.5476\n",
      "false alarm rate =  0.0441\n"
     ]
    }
   ],
   "source": [
    "result_female = output[meta_data.male.apply(lambda x:x>=0.5)]\n",
    "(TP, FP, TN, FN) = perf_measure(result_female.y_pred, result_female.label)\n",
    "print('accuracy:', round(accuracy_score(result_female.label, result_female.y_pred), 4))\n",
    "print('precision:',round(precision_score(result_female.label, result_female.y_pred), 4))\n",
    "print('recall:', round(recall_score(result_female.label, result_female.y_pred), 4))\n",
    "print('f1:', round(f1_score(result_female.label, result_female.y_pred), 4))\n",
    "print('false alarm rate = ', round(FP/(FP+TN), 4))"
   ]
  },
  {
   "cell_type": "code",
   "execution_count": 79,
   "metadata": {},
   "outputs": [
    {
     "name": "stdout",
     "output_type": "stream",
     "text": [
      "accuracy: 0.9053\n",
      "precision: 0.6667\n",
      "recall: 0.4463\n",
      "f1: 0.5347\n",
      "false alarm rate =  0.031\n"
     ]
    }
   ],
   "source": [
    "result_female = output[meta_data.asian.apply(lambda x:x>=0.5)]\n",
    "(TP, FP, TN, FN) = perf_measure(result_female.y_pred, result_female.label)\n",
    "print('accuracy:', round(accuracy_score(result_female.label, result_female.y_pred), 4))\n",
    "print('precision:',round(precision_score(result_female.label, result_female.y_pred), 4))\n",
    "print('recall:', round(recall_score(result_female.label, result_female.y_pred), 4))\n",
    "print('f1:', round(f1_score(result_female.label, result_female.y_pred), 4))\n",
    "print('false alarm rate = ', round(FP/(FP+TN), 4))"
   ]
  },
  {
   "cell_type": "code",
   "execution_count": 80,
   "metadata": {},
   "outputs": [
    {
     "name": "stdout",
     "output_type": "stream",
     "text": [
      "accuracy: 0.8325\n",
      "precision: 0.7222\n",
      "recall: 0.5049\n",
      "f1: 0.5943\n",
      "false alarm rate =  0.0623\n"
     ]
    }
   ],
   "source": [
    "result_female = output[meta_data.psychiatric_or_mental_illness.apply(lambda x:x>=0.5)]\n",
    "(TP, FP, TN, FN) = perf_measure(result_female.y_pred, result_female.label)\n",
    "print('accuracy:', round(accuracy_score(result_female.label, result_female.y_pred), 4))\n",
    "print('precision:',round(precision_score(result_female.label, result_female.y_pred), 4))\n",
    "print('recall:', round(recall_score(result_female.label, result_female.y_pred), 4))\n",
    "print('f1:', round(f1_score(result_female.label, result_female.y_pred), 4))\n",
    "print('false alarm rate = ', round(FP/(FP+TN), 4))"
   ]
  },
  {
   "cell_type": "code",
   "execution_count": 81,
   "metadata": {},
   "outputs": [
    {
     "name": "stdout",
     "output_type": "stream",
     "text": [
      "accuracy: 0.7718\n",
      "precision: 0.6374\n",
      "recall: 0.3854\n",
      "f1: 0.4804\n",
      "false alarm rate =  0.0826\n"
     ]
    }
   ],
   "source": [
    "result_female = output[meta_data.homosexual_gay_or_lesbian.apply(lambda x:x>=0.5)]\n",
    "(TP, FP, TN, FN) = perf_measure(result_female.y_pred, result_female.label)\n",
    "print('accuracy:', round(accuracy_score(result_female.label, result_female.y_pred), 4))\n",
    "print('precision:',round(precision_score(result_female.label, result_female.y_pred), 4))\n",
    "print('recall:', round(recall_score(result_female.label, result_female.y_pred), 4))\n",
    "print('f1:', round(f1_score(result_female.label, result_female.y_pred), 4))\n",
    "print('false alarm rate = ', round(FP/(FP+TN), 4))"
   ]
  },
  {
   "cell_type": "code",
   "execution_count": 82,
   "metadata": {},
   "outputs": [
    {
     "name": "stdout",
     "output_type": "stream",
     "text": [
      "accuracy: 0.7624\n",
      "precision: 0.6564\n",
      "recall: 0.5014\n",
      "f1: 0.5685\n",
      "false alarm rate =  0.1191\n"
     ]
    }
   ],
   "source": [
    "result_female = output[meta_data.black.apply(lambda x:x>=0.5)]\n",
    "(TP, FP, TN, FN) = perf_measure(result_female.y_pred, result_female.label)\n",
    "print('accuracy:', round(accuracy_score(result_female.label, result_female.y_pred), 4))\n",
    "print('precision:',round(precision_score(result_female.label, result_female.y_pred), 4))\n",
    "print('recall:', round(recall_score(result_female.label, result_female.y_pred), 4))\n",
    "print('f1:', round(f1_score(result_female.label, result_female.y_pred), 4))\n",
    "print('false alarm rate = ', round(FP/(FP+TN), 4))"
   ]
  },
  {
   "cell_type": "code",
   "execution_count": null,
   "metadata": {},
   "outputs": [],
   "source": []
  },
  {
   "cell_type": "code",
   "execution_count": null,
   "metadata": {},
   "outputs": [],
   "source": []
  }
 ],
 "metadata": {
  "kernelspec": {
   "display_name": "Python 3",
   "language": "python",
   "name": "python3"
  },
  "language_info": {
   "codemirror_mode": {
    "name": "ipython",
    "version": 3
   },
   "file_extension": ".py",
   "mimetype": "text/x-python",
   "name": "python",
   "nbconvert_exporter": "python",
   "pygments_lexer": "ipython3",
   "version": "3.6.9"
  }
 },
 "nbformat": 4,
 "nbformat_minor": 4
}
