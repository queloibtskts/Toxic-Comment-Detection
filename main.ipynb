{
 "cells": [
  {
   "cell_type": "code",
   "execution_count": 15,
   "metadata": {},
   "outputs": [],
   "source": [
    "%run Preprocess.ipynb"
   ]
  },
  {
   "cell_type": "code",
   "execution_count": 3,
   "metadata": {},
   "outputs": [],
   "source": [
    "import pandas as pd\n",
    "import numpy as np\n",
    "from collections import Counter\n",
    "import statistics\n",
    "from sklearn.feature_extraction.text import CountVectorizer"
   ]
  },
  {
   "cell_type": "code",
   "execution_count": 4,
   "metadata": {},
   "outputs": [],
   "source": [
    "usecols = ['id', 'target', 'comment_text']\n",
    "train = pd.read_csv('data/train.csv', usecols=usecols, dtype = {'id': int})"
   ]
  },
  {
   "cell_type": "code",
   "execution_count": 5,
   "metadata": {},
   "outputs": [],
   "source": [
    "train.set_index(train['id'], inplace=True)\n",
    "train = train.drop('id', axis=1).copy()"
   ]
  },
  {
   "cell_type": "code",
   "execution_count": 6,
   "metadata": {},
   "outputs": [
    {
     "data": {
      "text/html": [
       "<div>\n",
       "<style scoped>\n",
       "    .dataframe tbody tr th:only-of-type {\n",
       "        vertical-align: middle;\n",
       "    }\n",
       "\n",
       "    .dataframe tbody tr th {\n",
       "        vertical-align: top;\n",
       "    }\n",
       "\n",
       "    .dataframe thead th {\n",
       "        text-align: right;\n",
       "    }\n",
       "</style>\n",
       "<table border=\"1\" class=\"dataframe\">\n",
       "  <thead>\n",
       "    <tr style=\"text-align: right;\">\n",
       "      <th></th>\n",
       "      <th>target</th>\n",
       "      <th>comment_text</th>\n",
       "    </tr>\n",
       "    <tr>\n",
       "      <th>id</th>\n",
       "      <th></th>\n",
       "      <th></th>\n",
       "    </tr>\n",
       "  </thead>\n",
       "  <tbody>\n",
       "    <tr>\n",
       "      <th>59848</th>\n",
       "      <td>0.000000</td>\n",
       "      <td>This is so cool. It's like, 'would you want yo...</td>\n",
       "    </tr>\n",
       "    <tr>\n",
       "      <th>59849</th>\n",
       "      <td>0.000000</td>\n",
       "      <td>Thank you!! This would make my life a lot less...</td>\n",
       "    </tr>\n",
       "    <tr>\n",
       "      <th>59852</th>\n",
       "      <td>0.000000</td>\n",
       "      <td>This is such an urgent design problem; kudos t...</td>\n",
       "    </tr>\n",
       "    <tr>\n",
       "      <th>59855</th>\n",
       "      <td>0.000000</td>\n",
       "      <td>Is this something I'll be able to install on m...</td>\n",
       "    </tr>\n",
       "    <tr>\n",
       "      <th>59856</th>\n",
       "      <td>0.893617</td>\n",
       "      <td>haha you guys are a bunch of losers.</td>\n",
       "    </tr>\n",
       "  </tbody>\n",
       "</table>\n",
       "</div>"
      ],
      "text/plain": [
       "         target                                       comment_text\n",
       "id                                                                \n",
       "59848  0.000000  This is so cool. It's like, 'would you want yo...\n",
       "59849  0.000000  Thank you!! This would make my life a lot less...\n",
       "59852  0.000000  This is such an urgent design problem; kudos t...\n",
       "59855  0.000000  Is this something I'll be able to install on m...\n",
       "59856  0.893617               haha you guys are a bunch of losers."
      ]
     },
     "execution_count": 6,
     "metadata": {},
     "output_type": "execute_result"
    }
   ],
   "source": [
    "train.head()"
   ]
  },
  {
   "cell_type": "code",
   "execution_count": 50,
   "metadata": {},
   "outputs": [],
   "source": [
    "#X_train = train.iloc[:2000,].comment_text\n",
    "X_train = train.comment_text\n",
    "\n",
    "#y_train = train.iloc[:2000,].target\n",
    "y_train = train.target\n",
    "y_train_encoded = y_train.apply(lambda x: 1 if x >= 0.5 else 0)"
   ]
  },
  {
   "cell_type": "code",
   "execution_count": 51,
   "metadata": {},
   "outputs": [
    {
     "name": "stdout",
     "output_type": "stream",
     "text": [
      "This is so cool. It's like, 'would you want your mother to read this??' Really great idea, well done!\n",
      "Thank you!! This would make my life a lot less anxiety-inducing. Keep it up, and don't let anyone get in your way!\n",
      "This is such an urgent design problem; kudos to you for taking it on. Very impressive!\n",
      "Is this something I'll be able to install on my site? When will you be releasing it?\n",
      "haha you guys are a bunch of losers.\n",
      "ur a sh*tty comment.\n",
      "hahahahahahahahhha suck it.\n",
      "FFFFUUUUUUUUUUUUUUU\n",
      "The ranchers seem motivated by mostly by greed; no one should have the right to allow their animals destroy public land.\n",
      "It was a great show. Not a combo I'd of expected to be good together but it was.\n"
     ]
    }
   ],
   "source": [
    "# comments before preprocessing\n",
    "for i in range(10):\n",
    "    print(X_train.iloc[i])"
   ]
  },
  {
   "cell_type": "code",
   "execution_count": 52,
   "metadata": {},
   "outputs": [
    {
     "name": "stdout",
     "output_type": "stream",
     "text": [
      "this be so cool -PRON- be like ' would -PRON- want -PRON- mother to read this ' really great idea well do\n",
      "thank -PRON- this would make -PRON- life a lot less anxiety induce keep -PRON- up and do n't let anyone get in -PRON- way\n",
      "this be such an urgent design problem kudo to -PRON- for take -PRON- on very impressive\n",
      "be this something i will be able to install on -PRON- site when will -PRON- be release -PRON-\n",
      "haha -PRON- guy be a bunch of loser\n",
      "ur a sh tty comment\n",
      "hahahahahahahahhha suck -PRON-\n",
      "ffffuuuuuuuuuuuuuuu\n",
      "the rancher seem motivate by mostly by greed no one should have the right to allow -PRON- animal destroy public land\n",
      "-PRON- be a great show not a combo i 'd of expect to be good together but -PRON- be\n"
     ]
    }
   ],
   "source": [
    "# comments after preprocessing with stopwords kept\n",
    "X_train_tidy = preprocess(X_train)\n",
    "for i in range(10):\n",
    "    print(X_train_tidy.iloc[i])"
   ]
  },
  {
   "cell_type": "code",
   "execution_count": 103,
   "metadata": {},
   "outputs": [
    {
     "data": {
      "text/plain": [
       "(1804874,)"
      ]
     },
     "execution_count": 103,
     "metadata": {},
     "output_type": "execute_result"
    }
   ],
   "source": [
    "X_train_tidy.shape"
   ]
  },
  {
   "cell_type": "code",
   "execution_count": 80,
   "metadata": {},
   "outputs": [
    {
     "name": "stdout",
     "output_type": "stream",
     "text": [
      "Number of 0-length comments: 333\n",
      "Comments' maximum length: 538\n",
      "Number of longest comments: 1\n"
     ]
    }
   ],
   "source": [
    "# counter of number of words (tokens) in each comment\n",
    "len_comments =  [len(x.split()) for x in X_train_tidy]\n",
    "count_len_comments = Counter(len_comments) \n",
    "\n",
    "print('Number of 0-length comments:', count_len_comments[0])\n",
    "print(\"Comments' maximum length:\", max(count_len_comments))\n",
    "print(\"Number of longest comments:\", count_len_comments[max(count_len_comments)])"
   ]
  },
  {
   "cell_type": "code",
   "execution_count": 106,
   "metadata": {},
   "outputs": [
    {
     "data": {
      "image/png": "[encoded data removed]",
      "text/plain": [
       "<Figure size 432x288 with 1 Axes>"
      ]
     },
     "metadata": {
      "needs_background": "light"
     },
     "output_type": "display_data"
    }
   ],
   "source": [
    "import matplotlib.pyplot as plt\n",
    "plt.hist(len_comments, bins=100)\n",
    "plt.show()"
   ]
  },
  {
   "cell_type": "code",
   "execution_count": 104,
   "metadata": {},
   "outputs": [
    {
     "name": "stdout",
     "output_type": "stream",
     "text": [
      "(1804541,)\n",
      "(1804541,)\n"
     ]
    }
   ],
   "source": [
    "# remove outliers - short comments\n",
    "non_zero_len = X_train_tidy.apply(lambda x: len(x.split()) != 0) # a series of booleans\n",
    "X_train_remove0len = X_train_tidy[non_zero_len].copy()\n",
    "non_zero_len_indices = X_train_remove0len.index\n",
    "y_train_remove0len = y_train_encoded.loc[non_zero_len_indices].copy()\n",
    "\n",
    "print(X_train_remove0len.shape)\n",
    "print(y_train_remove0len.shape)"
   ]
  },
  {
   "cell_type": "code",
   "execution_count": 105,
   "metadata": {},
   "outputs": [
    {
     "name": "stdout",
     "output_type": "stream",
     "text": [
      "(1804527,)\n",
      "(1804527,)\n"
     ]
    }
   ],
   "source": [
    "# remove outliers - long comments\n",
    "qt = np.quantile(len_comments, [.25,.5,.75])\n",
    "iqr = qt[2] - qt[0]\n",
    "outter_fence = qt[2]+3*iqr\n",
    "\n",
    "non_long_len = X_train_remove0len.apply(lambda x: len(x.split()) <= outter_fence)\n",
    "X_train_removelong = X_train_remove0len[non_long_len].copy()\n",
    "non_long_len_indices = X_train_removelong.index\n",
    "y_train_removelong = y_train_remove0len.loc[non_long_len_indices].copy()\n",
    "\n",
    "print(X_train_removelong.shape)\n",
    "print(y_train_removelong.shape)"
   ]
  },
  {
   "cell_type": "code",
   "execution_count": 107,
   "metadata": {},
   "outputs": [],
   "source": [
    "pd.DataFrame({'comment_text': X_train_remove0len, 'target': y_train_remove0len}).to_csv('comments_preprocessed_1.csv')"
   ]
  }
 ],
 "metadata": {
  "kernelspec": {
   "display_name": "Python 3",
   "language": "python",
   "name": "python3"
  },
  "language_info": {
   "codemirror_mode": {
    "name": "ipython",
    "version": 3
   },
   "file_extension": ".py",
   "mimetype": "text/x-python",
   "name": "python",
   "nbconvert_exporter": "python",
   "pygments_lexer": "ipython3",
   "version": "3.7.3"
  }
 },
 "nbformat": 4,
 "nbformat_minor": 2
}
