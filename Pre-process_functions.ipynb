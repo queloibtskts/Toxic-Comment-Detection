{
 "cells": [
  {
   "cell_type": "code",
   "execution_count": 1,
   "metadata": {},
   "outputs": [],
   "source": [
    "%autosave 120"
   ]
  },
  {
   "cell_type": "code",
   "execution_count": 2,
   "metadata": {},
   "outputs": [
    {
     "data": {
      "text/plain": [
       "<spacy.lang.en.English at 0x7fa77e863e90>"
      ]
     },
     "execution_count": 2,
     "metadata": {},
     "output_type": "execute_result"
    }
   ],
   "source": [
    "import pandas as pd\n",
    "import spacy\n",
    "from nltk.tokenize import word_tokenize\n",
    "import numpy as np\n",
    "import en_core_web_sm\n",
    "import re\n",
    "import nltk"
   ]
  },
  {
   "cell_type": "markdown",
   "metadata": {},
   "source": [
    "# Pre-process Functions"
   ]
  },
  {
   "cell_type": "code",
   "execution_count": 6,
   "metadata": {},
   "outputs": [],
   "source": [
    "# retrieved from https://stackoverflow.com/questions/33404752/removing-emojis-from-a-string-in-python\n",
    "\n",
    "\"\"\" Title: removing emojis from a string in Python\n",
    "Author: Abdul-Razak Adam\n",
    "Date: 2020 June 17\n",
    "Code version: 2.0\n",
    "Availability: https://stackoverflow.com/questions/33404752/removing-emojis-from-a-string-in-python \"\"\"\n",
    "\n",
    "def deEmojify(text):\n",
    "    regrex_pattern = re.compile(pattern = \"[\"\n",
    "        u\"\\U0001F600-\\U0001F64F\"  # emoticons\n",
    "        u\"\\U0001F300-\\U0001F5FF\"  # symbols & pictographs\n",
    "        u\"\\U0001F680-\\U0001F6FF\"  # transport & map symbols\n",
    "        u\"\\U0001F1E0-\\U0001F1FF\"  # flags (iOS)\n",
    "                           \"]+\", flags = re.UNICODE)\n",
    "    return regrex_pattern.sub(r'',text)\n"
   ]
  },
  {
   "cell_type": "code",
   "execution_count": null,
   "metadata": {},
   "outputs": [],
   "source": [
    "def preprocess(corpus):\n",
    "    '''This pre-processing function lemmatizes words, makes a commment case-insensitive, removes punctuation,\n",
    "    removes stop words and removes single characters. '''\n",
    "    \n",
    "    # convert df to list; *corpus* is of a form of a list of str\n",
    "    original_indices = corpus.index\n",
    "    corpus = corpus.to_list()\n",
    "    \n",
    "    # initialize lemmatizer and a list of stopwords\n",
    "    lemmatizer = spacy.load('en_core_web_sm', disable = ['parser', 'ner'])\n",
    "    \n",
    "    for i in range(len(corpus)):\n",
    "        text = corpus[i] # one comment\n",
    "        \n",
    "        # convert text to lower case\n",
    "        text = text.lower()\n",
    "        \n",
    "        # remove emoji\n",
    "        text = deEmojify(text)\n",
    "        \n",
    "        # remove url links\n",
    "        text = re.sub(r\"http\\S+\", \"\", text)\n",
    "        text = re.sub(r\"www\\S+\", \"\", text)\n",
    "        \n",
    "        # remove punctuations and numbers but save the \"'\"\n",
    "        symbols = \"—…,!\\\"#$%&()*+-./:;<=>?@[\\]^_`{|}~0123456789\"\n",
    "        for sym in symbols:\n",
    "            text = np.char.replace(text, sym, ' ') # replace symbols by one space\n",
    "\n",
    "        # tokenize text\n",
    "        text_tokens = word_tokenize(str(text))\n",
    "\n",
    "        # spaCy Lemmatization\n",
    "        doc = lemmatizer(\" \".join([tk for tk in text_tokens]))\n",
    "        #print(doc)\n",
    "        corpus[i] = \" \".join([token.lemma_ for token in doc]) # Extract the lemma for each token and join\n",
    "    return pd.Series(corpus, index=original_indices)"
   ]
  }
 ],
 "metadata": {
  "kernelspec": {
   "display_name": "Python 3",
   "language": "python",
   "name": "python3"
  },
  "language_info": {
   "codemirror_mode": {
    "name": "ipython",
    "version": 3
   },
   "file_extension": ".py",
   "mimetype": "text/x-python",
   "name": "python",
   "nbconvert_exporter": "python",
   "pygments_lexer": "ipython3",
   "version": "3.7.6"
  }
 },
 "nbformat": 4,
 "nbformat_minor": 2
}
