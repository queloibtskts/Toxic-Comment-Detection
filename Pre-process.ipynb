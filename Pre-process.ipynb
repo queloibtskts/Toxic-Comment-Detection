{
 "cells": [
  {
   "cell_type": "code",
   "execution_count": null,
   "metadata": {},
   "outputs": [],
   "source": [
    "%run Pre-process.ipynb"
   ]
  },
  {
   "cell_type": "code",
   "execution_count": null,
   "metadata": {},
   "outputs": [],
   "source": [
    "import pandas as pd\n",
    "import numpy as np\n",
    "from collections import Counter\n",
    "import statistics\n",
    "from sklearn.feature_extraction.text import CountVectorizer"
   ]
  },
  {
   "cell_type": "code",
   "execution_count": null,
   "metadata": {},
   "outputs": [],
   "source": [
    "usecols = ['id', 'target', 'comment_text']\n",
    "train = pd.read_csv('../Data/train.csv', usecols=usecols, dtype = {'id': int})"
   ]
  },
  {
   "cell_type": "code",
   "execution_count": null,
   "metadata": {},
   "outputs": [],
   "source": [
    "train.set_index(train['id'], inplace=True)\n",
    "train = train.drop('id', axis=1).copy()"
   ]
  },
  {
   "cell_type": "code",
   "execution_count": null,
   "metadata": {},
   "outputs": [],
   "source": [
    "train.head()"
   ]
  },
  {
   "cell_type": "code",
   "execution_count": null,
   "metadata": {},
   "outputs": [],
   "source": [
    "#X_train = train.iloc[:2000,].comment_text\n",
    "X_train = train.comment_text\n",
    "\n",
    "#y_train = train.iloc[:2000,].target\n",
    "y_train = train.target\n",
    "y_train_encoded = y_train.apply(lambda x: 1 if x >= 0.5 else 0)"
   ]
  },
  {
   "cell_type": "code",
   "execution_count": null,
   "metadata": {},
   "outputs": [],
   "source": [
    "# comments before preprocessing\n",
    "for i in range(10):\n",
    "    print(X_train.iloc[i])"
   ]
  },
  {
   "cell_type": "code",
   "execution_count": null,
   "metadata": {},
   "outputs": [],
   "source": [
    "# comments after preprocessing with stopwords kept\n",
    "X_train_tidy = preprocess(X_train)\n",
    "for i in range(10):\n",
    "    print(X_train_tidy.iloc[i])"
   ]
  },
  {
   "cell_type": "code",
   "execution_count": null,
   "metadata": {},
   "outputs": [],
   "source": [
    "X_train_tidy = pd.DataFrame({'comment_text':X_train_tidy})\n",
    "allindices = X_train_tidy.index\n",
    "print('before removing dup:', X_train_tidy.shape)\n",
    "\n",
    "X_train_tidy.drop_duplicates(subset='comment_text', keep='first', inplace=True)\n",
    "print('after removing dup:', X_train_tidy.shape)\n",
    "\n",
    "removedId = set(allindices)- set(X_train_tidy.index) # instances removed\n",
    "y_train_encoded = y_train_encoded.iloc[~y_train_encoded.index.isin(removedId)]"
   ]
  },
  {
   "cell_type": "code",
   "execution_count": null,
   "metadata": {},
   "outputs": [],
   "source": [
    "X_train_tidy = pd.Series(X_train_tidy.comment_text)"
   ]
  },
  {
   "cell_type": "code",
   "execution_count": null,
   "metadata": {},
   "outputs": [],
   "source": [
    "# counter of number of words (tokens) in each comment\n",
    "len_comments =  [len(x.split()) for x in X_train_tidy]\n",
    "count_len_comments = Counter(len_comments) \n",
    "\n",
    "print('Number of 0-length comments:', count_len_comments[0])\n",
    "print(\"Comments' maximum length:\", max(count_len_comments))\n",
    "print(\"Number of longest comments:\", count_len_comments[max(count_len_comments)])"
   ]
  },
  {
   "cell_type": "code",
   "execution_count": null,
   "metadata": {},
   "outputs": [],
   "source": [
    "import matplotlib.pyplot as plt\n",
    "plt.hist(len_comments, bins=100)\n",
    "plt.show()"
   ]
  },
  {
   "cell_type": "code",
   "execution_count": null,
   "metadata": {},
   "outputs": [],
   "source": [
    "# remove outliers - short comments\n",
    "non_zero_len = X_train_tidy.apply(lambda x: len(x.split()) != 0) # a series of booleans\n",
    "X_train_remove0len = X_train_tidy[non_zero_len].copy()\n",
    "non_zero_len_indices = X_train_remove0len.index\n",
    "y_train_remove0len = y_train_encoded.loc[non_zero_len_indices].copy()\n",
    "\n",
    "print(X_train_remove0len.shape)\n",
    "print(y_train_remove0len.shape)"
   ]
  },
  {
   "cell_type": "code",
   "execution_count": null,
   "metadata": {},
   "outputs": [],
   "source": [
    "# remove outliers - long comments\n",
    "qt = np.quantile(len_comments, [.25,.5,.75])\n",
    "iqr = qt[2] - qt[0]\n",
    "outter_fence = qt[2]+3*iqr\n",
    "\n",
    "non_long_len = X_train_remove0len.apply(lambda x: len(x.split()) <= outter_fence)\n",
    "X_train_removelong = X_train_remove0len[non_long_len].copy()\n",
    "non_long_len_indices = X_train_removelong.index\n",
    "y_train_removelong = y_train_remove0len.loc[non_long_len_indices].copy()\n",
    "\n",
    "print(X_train_removelong.shape)\n",
    "print(y_train_removelong.shape)"
   ]
  },
  {
   "cell_type": "code",
   "execution_count": null,
   "metadata": {},
   "outputs": [],
   "source": [
    "# output pre-processed comment\n",
    "pd.DataFrame({'comment_text': X_train_removelong, 'target': y_train_removelong}).to_csv('comments_preprocessed_final.csv')"
   ]
  }
 ],
 "metadata": {
  "kernelspec": {
   "display_name": "Python 3",
   "language": "python",
   "name": "python3"
  },
  "language_info": {
   "codemirror_mode": {
    "name": "ipython",
    "version": 3
   },
   "file_extension": ".py",
   "mimetype": "text/x-python",
   "name": "python",
   "nbconvert_exporter": "python",
   "pygments_lexer": "ipython3",
   "version": "3.7.6"
  }
 },
 "nbformat": 4,
 "nbformat_minor": 2
}
