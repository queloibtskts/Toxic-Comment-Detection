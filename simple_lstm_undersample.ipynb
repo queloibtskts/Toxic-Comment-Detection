{
 "cells": [
  {
   "cell_type": "code",
   "execution_count": 1,
   "metadata": {},
   "outputs": [
    {
     "name": "stderr",
     "output_type": "stream",
     "text": [
      "Using TensorFlow backend.\n"
     ]
    }
   ],
   "source": [
    "import numpy as np\n",
    "import pandas as pd\n",
    "from keras.models import Model, load_model\n",
    "from keras.layers import Input, Dense, Embedding, SpatialDropout1D, add, concatenate, Dropout\n",
    "from keras.layers import CuDNNLSTM, Bidirectional, GlobalMaxPooling1D, GlobalAveragePooling1D, LSTM\n",
    "from keras.preprocessing import text, sequence\n",
    "from gensim.models import KeyedVectors\n",
    "import tensorflow as tf\n",
    "from sklearn.metrics import accuracy_score, f1_score, recall_score, precision_score"
   ]
  },
  {
   "cell_type": "code",
   "execution_count": 2,
   "metadata": {},
   "outputs": [],
   "source": [
    "from sklearn.utils import resample\n",
    "from keras.callbacks import EarlyStopping, ModelCheckpoint"
   ]
  },
  {
   "cell_type": "code",
   "execution_count": 3,
   "metadata": {},
   "outputs": [],
   "source": [
    "import matplotlib.pyplot as plt\n",
    "def plot_metric(history, EPOCHS):\n",
    "    epo = list(range(EPOCHS))\n",
    "    plt.plot(epo, history['loss'], label='Training loss')\n",
    "    plt.plot(epo, history['val_loss'], label='Validation loss', linestyle=\"--\")\n",
    "    plt.xlabel('Epoch')\n",
    "    plt.ylabel('Loss')\n",
    "    plt.xticks(epo)\n",
    "    plt.legend()\n",
    "    plt.show()"
   ]
  },
  {
   "cell_type": "code",
   "execution_count": 4,
   "metadata": {},
   "outputs": [],
   "source": [
    "\"\"\" Title: Scikit-learn: How to obtain True Positive, True Negative, False Positive and False Negative\n",
    "Author: invoketheshell, & Rasoul\n",
    "Date: 2015\n",
    "Availability: https://stackoverflow.com/questions/31324218/scikit-learn-how-to-obtain-true-positive-true-negative-false-positive-and-fal \"\"\"\n",
    "def perf_measure(y_actual, y_hat):\n",
    "    y_actual = y_actual.to_list()\n",
    "    y_hat = y_hat.to_list()\n",
    "    TP = 0\n",
    "    FP = 0\n",
    "    TN = 0\n",
    "    FN = 0\n",
    "    for i in range(len(y_hat)): \n",
    "        if y_actual[i]==y_hat[i]==1: TP += 1\n",
    "        if y_hat[i]==1 and y_actual[i]!=y_hat[i]: FP += 1\n",
    "        if y_actual[i]==y_hat[i]==0: TN += 1\n",
    "        if y_hat[i]==0 and y_actual[i]!=y_hat[i]: FN += 1\n",
    "    return(TP, FP, TN, FN)"
   ]
  },
  {
   "cell_type": "code",
   "execution_count": 6,
   "metadata": {},
   "outputs": [],
   "source": [
    "EMBEDDING_FILES = [\n",
    "    'crawl-300d-2M.gensim',\n",
    "    'glove.840B.300d.gensim'\n",
    "]\n",
    "BATCH_SIZE = 512\n",
    "LSTM_UNITS = 128 # output vector dimension of each lstm cell\n",
    "DENSE_HIDDEN_UNITS = 4 * LSTM_UNITS\n",
    "EPOCHS = 20\n",
    "DROPOUT_RATE = 0.5\n",
    "TRAIN_PERCENT = 0.8\n",
    "VALID_PERCENT = 0.25 # 25% from the training set is equiv to 20% from the whole dataset\n",
    "TEXT_COLUMN = 'comment_text'\n",
    "TARGET_COLUMN = 'target'"
   ]
  },
  {
   "cell_type": "code",
   "execution_count": 7,
   "metadata": {},
   "outputs": [],
   "source": [
    "\"\"\" Title: Simple LSTM\n",
    "Author: thousandvoices\n",
    "Date: 2019\n",
    "Code version: 8\n",
    "Availability: https://www.kaggle.com/thousandvoices/simple-lstm?scriptVersionId=16109977 \"\"\"\n",
    "def build_matrix(word_index, path):\n",
    "    unknown_words = []\n",
    "    embedding_index = KeyedVectors.load(path, mmap='r')\n",
    "    embedding_matrix = np.zeros((MAX_FEATURES + 1, 300))\n",
    "    for word, i in word_index.items():\n",
    "        if i <= MAX_FEATURES:\n",
    "            try:\n",
    "                embedding_matrix[i] = embedding_index[word]\n",
    "            except KeyError:\n",
    "                try:\n",
    "                    embedding_matrix[i] = embedding_index[word.lower()]\n",
    "                except KeyError:\n",
    "                    try:\n",
    "                        embedding_matrix[i] = embedding_index[word.title()]\n",
    "                    except KeyError:\n",
    "                        unknown_words.append(word)\n",
    "    return embedding_matrix, unknown_words"
   ]
  },
  {
   "cell_type": "code",
   "execution_count": 8,
   "metadata": {},
   "outputs": [],
   "source": [
    "\"\"\" Title: Simple LSTM\n",
    "Author: thousandvoices\n",
    "Date: 2019\n",
    "Code version: 8\n",
    "Availability: https://www.kaggle.com/thousandvoices/simple-lstm?scriptVersionId=16109977 \"\"\"\n",
    "def build_model(embedding_matrix):\n",
    "    words = Input(shape=(MAX_LEN,))\n",
    "    x = Embedding(*embedding_matrix.shape, weights=[embedding_matrix], trainable=False)(words)\n",
    "    x = SpatialDropout1D(DROPOUT_RATE)(x)\n",
    "    x = Bidirectional(LSTM(LSTM_UNITS, return_sequences=True))(x)\n",
    "    x = Bidirectional(LSTM(LSTM_UNITS, return_sequences=True))(x)\n",
    "    hidden = concatenate([\n",
    "        GlobalMaxPooling1D()(x),\n",
    "        GlobalAveragePooling1D()(x),\n",
    "    ])\n",
    "    hidden = add([hidden, Dense(DENSE_HIDDEN_UNITS, activation='relu')(hidden)])\n",
    "    hidden = add([hidden, Dense(DENSE_HIDDEN_UNITS, activation='relu')(hidden)])\n",
    "    result = Dense(1, activation='sigmoid')(hidden)\n",
    "    model = Model(inputs=words, outputs=[result])\n",
    "    model.compile(loss='binary_crossentropy', optimizer='adam') #reset learning rate using Adam Optimizer \n",
    "\n",
    "    return model"
   ]
  },
  {
   "cell_type": "code",
   "execution_count": 9,
   "metadata": {},
   "outputs": [
    {
     "name": "stderr",
     "output_type": "stream",
     "text": [
      "/anaconda/envs/azureml_py36/lib/python3.6/site-packages/numpy/lib/arraysetops.py:569: FutureWarning: elementwise comparison failed; returning scalar instead, but in the future will perform elementwise comparison\n",
      "  mask |= (ar1 == a)\n"
     ]
    }
   ],
   "source": [
    "df = pd.read_csv('comments_preprocessed_1.csv', index_col = 'id')"
   ]
  },
  {
   "cell_type": "code",
   "execution_count": 10,
   "metadata": {},
   "outputs": [
    {
     "name": "stdout",
     "output_type": "stream",
     "text": [
      "40.395973205566406\n",
      "(1764927, 2)\n"
     ]
    }
   ],
   "source": [
    "print(df.memory_usage().sum() / 1024**2) # MB\n",
    "print(df.shape)"
   ]
  },
  {
   "cell_type": "code",
   "execution_count": 11,
   "metadata": {},
   "outputs": [],
   "source": [
    "MAX_LEN = 242 # outter_fence\n",
    "comments = df[TEXT_COLUMN].astype('str')\n",
    "y = df[TARGET_COLUMN].astype(np.int8)\n",
    "\n",
    "non_long_len = comments.apply(lambda x:len(x.split()) <= 242)\n",
    "text_removelong = comments[non_long_len].copy()\n",
    "non_long_len_indices = text_removelong.index\n",
    "y_removelong = y.loc[non_long_len_indices].copy()"
   ]
  },
  {
   "cell_type": "code",
   "execution_count": 12,
   "metadata": {},
   "outputs": [
    {
     "name": "stdout",
     "output_type": "stream",
     "text": [
      "1411933\n"
     ]
    }
   ],
   "source": [
    "train_size = round(y_removelong.shape[0]*TRAIN_PERCENT)\n",
    "print(train_size)"
   ]
  },
  {
   "cell_type": "code",
   "execution_count": 35,
   "metadata": {},
   "outputs": [],
   "source": [
    "x_train = text_removelong[:train_size,]\n",
    "y_train = y_removelong[:train_size,]\n",
    "x_test = text_removelong[train_size:,]\n",
    "y_test = y_removelong[train_size:,]"
   ]
  },
  {
   "cell_type": "code",
   "execution_count": 36,
   "metadata": {},
   "outputs": [
    {
     "data": {
      "text/plain": [
       "id\n",
       "59848      this be so cool -PRON- be like ' would -PRON- ...\n",
       "59849      thank -PRON- this would make -PRON- life a lot...\n",
       "59852      this be such an urgent design problem kudo to ...\n",
       "59855      be this something i will be able to install on...\n",
       "59856                    haha -PRON- guy be a bunch of loser\n",
       "                                 ...                        \n",
       "5882858    i ' m with -PRON- on most of that the only exc...\n",
       "5882859    as someone who experience sept in low manhatta...\n",
       "5882860    stampoutignorance -PRON- comment be spot on un...\n",
       "5882861    just have the girl take a small cut from each ...\n",
       "5882862                                     so sell and move\n",
       "Name: comment_text, Length: 1411933, dtype: object"
      ]
     },
     "execution_count": 36,
     "metadata": {},
     "output_type": "execute_result"
    }
   ],
   "source": [
    "text_removelong[:train_size,]"
   ]
  },
  {
   "cell_type": "code",
   "execution_count": 37,
   "metadata": {},
   "outputs": [
    {
     "name": "stdout",
     "output_type": "stream",
     "text": [
      "(1411933,) (352983,)\n"
     ]
    }
   ],
   "source": [
    "print(x_train.shape, x_test.shape)"
   ]
  },
  {
   "cell_type": "markdown",
   "metadata": {},
   "source": [
    "handle imbalanced data"
   ]
  },
  {
   "cell_type": "code",
   "execution_count": 38,
   "metadata": {},
   "outputs": [],
   "source": [
    "# undersample\n",
    "\n",
    "n_toxic = sum(y_train == 1) # number of toxic comments in training set\n",
    "toxic_id = y_train[y_train == 1].index\n",
    "non_toxic_id = y_train[y_train == 0].index\n",
    "\n",
    "# undersample majority class\n",
    "non_toxic_undersampled_id = resample(non_toxic_id,\n",
    "                                replace = False, # sample without replacement\n",
    "                                n_samples = n_toxic, # match the size of toxic set\n",
    "                                random_state = 34)\n",
    "\n",
    "# combined with toxic and undersampled non-toxic instances\n",
    "x_train_new = pd.concat([x_train[non_toxic_undersampled_id], x_train[toxic_id]])\n",
    "y_train_new = pd.concat([y_train[non_toxic_undersampled_id], y_train[toxic_id]])"
   ]
  },
  {
   "cell_type": "code",
   "execution_count": 39,
   "metadata": {},
   "outputs": [
    {
     "data": {
      "text/plain": [
       "111411"
      ]
     },
     "execution_count": 39,
     "metadata": {},
     "output_type": "execute_result"
    }
   ],
   "source": [
    "n_toxic"
   ]
  },
  {
   "cell_type": "code",
   "execution_count": 17,
   "metadata": {},
   "outputs": [],
   "source": [
    "tokenizer = text.Tokenizer(lower = False)\n",
    "tokenizer.fit_on_texts(list(x_train_new) + list(x_test))"
   ]
  },
  {
   "cell_type": "code",
   "execution_count": 18,
   "metadata": {},
   "outputs": [],
   "source": [
    "MAX_FEATURES = len(tokenizer.word_index)"
   ]
  },
  {
   "cell_type": "code",
   "execution_count": 19,
   "metadata": {},
   "outputs": [],
   "source": [
    "x_train = tokenizer.texts_to_sequences(x_train_new)\n",
    "x_test = tokenizer.texts_to_sequences(x_test)\n",
    "x_train = sequence.pad_sequences(x_train, maxlen=MAX_LEN)\n",
    "x_test = sequence.pad_sequences(x_test, maxlen=MAX_LEN)"
   ]
  },
  {
   "cell_type": "code",
   "execution_count": 20,
   "metadata": {},
   "outputs": [
    {
     "name": "stdout",
     "output_type": "stream",
     "text": [
      "n unknown words(crawl):  39098\n",
      "n unknown words(glove):  39342\n"
     ]
    },
    {
     "data": {
      "text/plain": [
       "(133305, 600)"
      ]
     },
     "execution_count": 20,
     "metadata": {},
     "output_type": "execute_result"
    }
   ],
   "source": [
    "\"\"\" Title: Simple LSTM\n",
    "Author: thousandvoices\n",
    "Date: 2019\n",
    "Code version: 8\n",
    "Availability: https://www.kaggle.com/thousandvoices/simple-lstm?scriptVersionId=16109977 \"\"\"\n",
    "embedding_matrix_cl, unknown_words_cl = build_matrix(tokenizer.word_index, EMBEDDING_FILES[0])\n",
    "print('n unknown words(crawl): ', len(unknown_words_cl))\n",
    "embedding_matrix_gl, unknown_words_gl = build_matrix(tokenizer.word_index, EMBEDDING_FILES[1])\n",
    "print('n unknown words(glove): ', len(unknown_words_gl))\n",
    "\n",
    "embedding_matrix = np.concatenate([embedding_matrix_cl, embedding_matrix_gl], axis=-1)\n",
    "\n",
    "del embedding_matrix_cl\n",
    "del embedding_matrix_gl\n",
    "\n",
    "embedding_matrix.shape"
   ]
  },
  {
   "cell_type": "code",
   "execution_count": 21,
   "metadata": {},
   "outputs": [
    {
     "name": "stdout",
     "output_type": "stream",
     "text": [
      "model built\n",
      "es is set\n",
      "mc is set\n",
      "Train on 167116 samples, validate on 55706 samples\n",
      "Epoch 1/20\n",
      "167116/167116 [==============================] - 1748s 10ms/step - loss: 0.3473 - val_loss: 0.3526\n",
      "\n",
      "Epoch 00001: val_loss improved from inf to 0.35258, saving model to best_model.h5\n",
      "Epoch 2/20\n",
      "167116/167116 [==============================] - 1815s 11ms/step - loss: 0.2772 - val_loss: 0.2558\n",
      "\n",
      "Epoch 00002: val_loss improved from 0.35258 to 0.25583, saving model to best_model.h5\n",
      "Epoch 3/20\n",
      "167116/167116 [==============================] - 1758s 11ms/step - loss: 0.2624 - val_loss: 0.2525\n",
      "\n",
      "Epoch 00003: val_loss improved from 0.25583 to 0.25245, saving model to best_model.h5\n",
      "Epoch 4/20\n",
      "167116/167116 [==============================] - 1814s 11ms/step - loss: 0.2502 - val_loss: 0.4089\n",
      "\n",
      "Epoch 00004: val_loss did not improve from 0.25245\n",
      "Epoch 5/20\n",
      "167116/167116 [==============================] - 1758s 11ms/step - loss: 0.2396 - val_loss: 0.3710\n",
      "\n",
      "Epoch 00005: val_loss did not improve from 0.25245\n",
      "Epoch 00005: early stopping\n",
      "model fitted\n"
     ]
    }
   ],
   "source": [
    "\"\"\" Title: Simple LSTM\n",
    "Author: thousandvoices\n",
    "Date: 2019\n",
    "Code version: 8\n",
    "Availability: https://www.kaggle.com/thousandvoices/simple-lstm?scriptVersionId=16109977 \"\"\"\n",
    "\n",
    "# dropoutrate 0.5\n",
    "\n",
    "model = build_model(embedding_matrix)\n",
    "print('model built')\n",
    "# simple early stopping\n",
    "es = EarlyStopping(monitor='val_loss', mode='min', verbose=1, patience=2)\n",
    "print('es is set')\n",
    "mc = ModelCheckpoint(filepath='best_model.h5', monitor='val_loss', save_best_only=True, verbose=1)\n",
    "print('mc is set')\n",
    "hist = model.fit(\n",
    "    x_train,\n",
    "    y_train_new,\n",
    "    batch_size=BATCH_SIZE,\n",
    "    epochs=EPOCHS,\n",
    "    verbose=1,\n",
    "    validation_split = VALID_PERCENT,\n",
    "    callbacks=[es, mc]\n",
    ")\n",
    "print('model fitted')\n",
    "predictions = model.predict(x_test, batch_size=512).flatten()"
   ]
  },
  {
   "cell_type": "code",
   "execution_count": 23,
   "metadata": {},
   "outputs": [
    {
     "data": {
      "image/png": "[encoded data removed]",
      "text/plain": [
       "<Figure size 432x288 with 1 Axes>"
      ]
     },
     "metadata": {
      "needs_background": "light"
     },
     "output_type": "display_data"
    }
   ],
   "source": [
    "plot_metric(hist.history, 5)"
   ]
  },
  {
   "cell_type": "code",
   "execution_count": 24,
   "metadata": {},
   "outputs": [],
   "source": [
    "predictions_encoded = pd.Series(predictions).apply(lambda x: 0 if x < 0.5 else 1)"
   ]
  },
  {
   "cell_type": "code",
   "execution_count": 25,
   "metadata": {},
   "outputs": [],
   "source": [
    "y_test_pred = pd.DataFrame({'lstm_predict':predictions_encoded, 'id': list(y_test.index)})\n",
    "y_result = y_test_pred.merge(y_test, left_on='id', right_on=y_test.index).set_index('id')\n",
    "y_result.to_csv('result_lstm_batch512_epoch20es_undersam_nomaxf.csv')"
   ]
  },
  {
   "cell_type": "code",
   "execution_count": 27,
   "metadata": {},
   "outputs": [
    {
     "name": "stdout",
     "output_type": "stream",
     "text": [
      "accuracy: 0.902046274183176\n",
      "precision: 0.8644898775973051\n",
      "recall: 0.4593057253734517\n",
      "f1: 0.5998889094612109\n"
     ]
    }
   ],
   "source": [
    "print('accuracy:', accuracy_score(y_pred = y_test, y_true = predictions_encoded))\n",
    "print('precision:',precision_score(y_pred = y_test, y_true = predictions_encoded))\n",
    "print('recall:', recall_score(y_pred = y_test, y_true = predictions_encoded))\n",
    "print('f1:', f1_score(y_pred = y_test, y_true = predictions_encoded))"
   ]
  },
  {
   "cell_type": "markdown",
   "metadata": {},
   "source": [
    "# References"
   ]
  },
  {
   "cell_type": "markdown",
   "metadata": {},
   "source": [
    "Mikolov, T., Grave, E., Bojanowski, P., Puhrsch, C., & Joulin, A. (2018). Advances in Pre-Training Distributed Word Representations. International Conference on Language Resources and Evaluation.\n",
    "\n",
    "Pennington, J., Socher, R., & Manning, C. D. (2014, August). GloVe: Global Vectors for Word Representation. Retrieved from The Stanford Natural Language Processing Group: https://nlp.stanford.edu/pubs/glove.pdf\n",
    "\n",
    "Thousandvoices (2019). Simple LSTM (Version 8) [Source code]. https://www.kaggle.com/thousandvoices/simple-lstm/data?scriptVersionId=16109977"
   ]
  }
 ],
 "metadata": {
  "jupytext": {
   "cell_metadata_filter": "-all",
   "encoding": "# -*- coding: utf-8 -*-",
   "notebook_metadata_filter": "-all",
   "text_representation": {
    "extension": ".py",
    "format_name": "light"
   }
  },
  "kernelspec": {
   "display_name": "Python 3",
   "language": "python",
   "name": "python3"
  },
  "language_info": {
   "codemirror_mode": {
    "name": "ipython",
    "version": 3
   },
   "file_extension": ".py",
   "mimetype": "text/x-python",
   "name": "python",
   "nbconvert_exporter": "python",
   "pygments_lexer": "ipython3",
   "version": "3.6.9"
  }
 },
 "nbformat": 4,
 "nbformat_minor": 4
}
