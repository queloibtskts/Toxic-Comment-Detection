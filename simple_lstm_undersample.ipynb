{
 "cells": [
  {
   "cell_type": "code",
   "execution_count": 2,
   "metadata": {},
   "outputs": [
    {
     "name": "stderr",
     "output_type": "stream",
     "text": [
      "Using TensorFlow backend.\n"
     ]
    }
   ],
   "source": [
    "import numpy as np\n",
    "import pandas as pd\n",
    "from keras.models import Model\n",
    "from keras.layers import Input, Dense, Embedding, SpatialDropout1D, add, concatenate, Dropout\n",
    "from keras.layers import CuDNNLSTM, Bidirectional, GlobalMaxPooling1D, GlobalAveragePooling1D, LSTM\n",
    "from keras.preprocessing import text, sequence\n",
    "from gensim.models import KeyedVectors\n",
    "import tensorflow as tf\n",
    "from sklearn.metrics import accuracy_score, f1_score, recall_score, precision_score"
   ]
  },
  {
   "cell_type": "code",
   "execution_count": 3,
   "metadata": {},
   "outputs": [],
   "source": [
    "from sklearn.utils import resample"
   ]
  },
  {
   "cell_type": "code",
   "execution_count": 4,
   "metadata": {},
   "outputs": [],
   "source": [
    "def perf_measure(y_actual, y_hat):\n",
    "    TP = 0\n",
    "    FP = 0\n",
    "    TN = 0\n",
    "    FN = 0\n",
    "\n",
    "    for i in range(len(y_hat)): \n",
    "        if y_actual[i]==y_hat[i]==1:\n",
    "               TP += 1\n",
    "        if y_hat[i]==1 and y_actual[i]!=y_hat[i]:\n",
    "               FP += 1\n",
    "        if y_actual[i]==y_hat[i]==0:\n",
    "               TN += 1\n",
    "        if y_hat[i]==0 and y_actual[i]!=y_hat[i]:\n",
    "               FN += 1\n",
    "\n",
    "    return(TP, FP, TN, FN)"
   ]
  },
  {
   "cell_type": "code",
   "execution_count": 7,
   "metadata": {},
   "outputs": [],
   "source": [
    "from tensorflow import set_random_seed\n",
    "set_random_seed(2)"
   ]
  },
  {
   "cell_type": "code",
   "execution_count": 6,
   "metadata": {},
   "outputs": [],
   "source": [
    "\n",
    "EMBEDDING_FILES = [\n",
    "    'crawl-300d-2M.gensim',\n",
    "    'glove.840B.300d.gensim'\n",
    "]\n",
    "MAX_FEATURES = 50000 # max number of unique words to keep based on frequency\n",
    "#NUM_MODELS = 2\n",
    "BATCH_SIZE = 512\n",
    "LSTM_UNITS = 128 # output vector dimension of each lstm cell\n",
    "DENSE_HIDDEN_UNITS = 4 * LSTM_UNITS\n",
    "EPOCHS = 6\n",
    "DROPOUT_RATE = 0.2\n",
    "TRAIN_PERCENT = 0.8\n",
    "VALID_PERCENT = 0.25 # 25% from the training set is equiv to 20% from the whole dataset\n",
    "\n",
    "# IDENTITY_COLUMNS = [\n",
    "#     'male', 'female', 'homosexual_gay_or_lesbian', 'christian', 'jewish',\n",
    "#     'muslim', 'black', 'white', 'psychiatric_or_mental_illness'\n",
    "# ]\n",
    "# AUX_COLUMNS = ['target', 'severe_toxicity', 'obscene', 'identity_attack', 'insult', 'threat']\n",
    "TEXT_COLUMN = 'comment_text'\n",
    "TARGET_COLUMN = 'target'\n",
    "# CHARS_TO_REMOVE = '!\"#$%&()*+,-./:;<=>?@[\\\\]^_`{|}~\\t\\n“”’\\'∞θ÷α•à−β∅³π‘₹´°£€\\×™√²—'"
   ]
  },
  {
   "cell_type": "code",
   "execution_count": 8,
   "metadata": {},
   "outputs": [],
   "source": [
    "# def build_matrix(word_index, path):\n",
    "#     embedding_index = KeyedVectors.load(path, mmap='r')\n",
    "#     embedding_matrix = np.zeros((len(word_index) + 1, 300))\n",
    "#     for word, i in word_index.items():\n",
    "#         for candidate in [word, word.lower(), word.title()]:\n",
    "#             if candidate in embedding_index:\n",
    "#                 embedding_matrix[i] = embedding_index[candidate]\n",
    "#                 break\n",
    "#     return embedding_matrix\n",
    "\n",
    "def build_matrix(word_index, path):\n",
    "    unknown_words = []\n",
    "    embedding_index = KeyedVectors.load(path, mmap='r')\n",
    "    embedding_matrix = np.zeros((MAX_FEATURES + 1, 300))\n",
    "    #embedding_matrix = np.zeros((len(word_index) + 1, 300))\n",
    "    for word, i in word_index.items():\n",
    "        if i <= MAX_FEATURES:\n",
    "            try:\n",
    "                embedding_matrix[i] = embedding_index[word]\n",
    "            except KeyError:\n",
    "                try:\n",
    "                    embedding_matrix[i] = embedding_index[word.lower()]\n",
    "                except KeyError:\n",
    "                    try:\n",
    "                        embedding_matrix[i] = embedding_index[word.title()]\n",
    "                    except KeyError:\n",
    "                        unknown_words.append(word)\n",
    "    return embedding_matrix, unknown_words\n",
    "\n",
    "\n"
   ]
  },
  {
   "cell_type": "code",
   "execution_count": 9,
   "metadata": {},
   "outputs": [],
   "source": [
    "def build_model(embedding_matrix):\n",
    "#     words = Input(shape=(None,))\n",
    "    words = Input(shape=(MAX_LEN,))\n",
    "    x = Embedding(*embedding_matrix.shape, weights=[embedding_matrix], trainable=False)(words)\n",
    "    #x = Embedding(MAX_FEATURES, weights=[embedding_matrix], trainable=False)(words)\n",
    "    #x = SpatialDropout1D(0.2)(x)\n",
    "    x = Dropout(DROPOUT_RATE)(x)\n",
    "#     x = Bidirectional(CuDNNLSTM(LSTM_UNITS, return_sequences=True))(x)\n",
    "#     x = Bidirectional(CuDNNLSTM(LSTM_UNITS, return_sequences=True))(x)\n",
    "    x = Bidirectional(LSTM(LSTM_UNITS, return_sequences=True))(x)\n",
    "    x = Bidirectional(LSTM(LSTM_UNITS, return_sequences=True))(x)\n",
    "\n",
    "    hidden = concatenate([\n",
    "        GlobalMaxPooling1D()(x),\n",
    "        GlobalAveragePooling1D()(x),\n",
    "    ])\n",
    "    hidden = add([hidden, Dense(DENSE_HIDDEN_UNITS, activation='relu')(hidden)])\n",
    "    hidden = add([hidden, Dense(DENSE_HIDDEN_UNITS, activation='relu')(hidden)])\n",
    "    result = Dense(1, activation='sigmoid')(hidden)\n",
    "    #aux_result = Dense(num_aux_targets, activation='sigmoid')(hidden)\n",
    "    \n",
    "    model = Model(inputs=words, outputs=[result#, aux_result\n",
    "                                        ])\n",
    "\n",
    "    model.compile(loss='binary_crossentropy', optimizer='adam') #reset learning rate using Adam Optimizer \n",
    "\n",
    "    return model"
   ]
  },
  {
   "cell_type": "markdown",
   "metadata": {},
   "source": [
    "train_df = pd.read_csv('../input/jigsaw-unintended-bias-in-toxicity-classification/train.csv')\n",
    "test_df = pd.read_csv('../input/jigsaw-unintended-bias-in-toxicity-classification/test.csv')"
   ]
  },
  {
   "cell_type": "code",
   "execution_count": 17,
   "metadata": {},
   "outputs": [],
   "source": [
    "df = pd.read_csv('comments_preprocessed/comments_preprocessed/comments_preprocessed_1.csv', index_col = 'id')"
   ]
  },
  {
   "cell_type": "code",
   "execution_count": 18,
   "metadata": {},
   "outputs": [
    {
     "name": "stdout",
     "output_type": "stream",
     "text": [
      "40.395973205566406\n",
      "(1764927, 2)\n"
     ]
    }
   ],
   "source": [
    "print(df.memory_usage().sum() / 1024**2) # MB\n",
    "print(df.shape)"
   ]
  },
  {
   "cell_type": "code",
   "execution_count": 19,
   "metadata": {},
   "outputs": [],
   "source": [
    "MAX_LEN = 242 # outter_fence\n",
    "comments = df[TEXT_COLUMN].astype('str')\n",
    "y = df[TARGET_COLUMN].astype(np.int8)\n",
    "\n",
    "non_long_len = comments.apply(lambda x:len(x.split()) <= 242)\n",
    "text_removelong = comments[non_long_len].copy()\n",
    "non_long_len_indices = text_removelong.index\n",
    "y_removelong = y.loc[non_long_len_indices].copy()"
   ]
  },
  {
   "cell_type": "code",
   "execution_count": 20,
   "metadata": {},
   "outputs": [
    {
     "name": "stdout",
     "output_type": "stream",
     "text": [
      "1411933\n"
     ]
    }
   ],
   "source": [
    "train_size = round(y_removelong.shape[0]*TRAIN_PERCENT)\n",
    "print(train_size)"
   ]
  },
  {
   "cell_type": "code",
   "execution_count": 21,
   "metadata": {},
   "outputs": [],
   "source": [
    "x_train = text_removelong[:train_size,]\n",
    "y_train = y_removelong[:train_size,]\n",
    "x_test = text_removelong[train_size:,]\n",
    "y_test = y_removelong[train_size:,]"
   ]
  },
  {
   "cell_type": "markdown",
   "metadata": {},
   "source": [
    "handle imbalanced data"
   ]
  },
  {
   "cell_type": "code",
   "execution_count": 22,
   "metadata": {},
   "outputs": [],
   "source": [
    "# from sklearn.utils import resample\n",
    "n_toxic = sum(y_train == 1) # number of toxic comments in training set\n",
    "toxic_id = y_train[y_train == 1].index\n",
    "non_toxic_id = y_train[y_train == 0].index\n",
    "\n",
    "# undersample majority class\n",
    "non_toxic_undersampled_id = resample(non_toxic_id,\n",
    "                                replace = False, # sample without replacement\n",
    "                                n_samples = n_toxic, # match the size of toxic set\n",
    "                                random_state = 34)\n",
    "\n",
    "# combined with toxic and undersampled non-toxic instances\n",
    "x_train_new = pd.concat([x_train[non_toxic_undersampled_id], x_train[toxic_id]])\n",
    "y_train_new = pd.concat([y_train[non_toxic_undersampled_id], y_train[toxic_id]])"
   ]
  },
  {
   "cell_type": "code",
   "execution_count": null,
   "metadata": {},
   "outputs": [],
   "source": [
    "# train_df = df.iloc[:1500,]\n",
    "# test_df = df.iloc[1500:,]\n",
    "\n",
    "# x_train = train_df[TEXT_COLUMN].astype('str')\n",
    "# y_train = train_df[TARGET_COLUMN].values.astype(np.int8)\n",
    "# #y_aux_train = train_df[AUX_COLUMNS].values\n",
    "# x_test = test_df[TEXT_COLUMN].astype('str')\n",
    "# y_test = test_df[TARGET_COLUMN].values.astype(np.int8)"
   ]
  },
  {
   "cell_type": "code",
   "execution_count": null,
   "metadata": {},
   "outputs": [],
   "source": [
    "# MAX_LEN = max(x_train.apply(lambda x: len(x.split()))) # outter_fence\n",
    "# MAX_LEN"
   ]
  },
  {
   "cell_type": "markdown",
   "metadata": {},
   "source": [
    "for column in IDENTITY_COLUMNS + [TARGET_COLUMN]:\n",
    "    train_df[column] = np.where(train_df[column] >= 0.5, True, False)"
   ]
  },
  {
   "cell_type": "code",
   "execution_count": 23,
   "metadata": {},
   "outputs": [],
   "source": [
    "tokenizer = text.Tokenizer(num_words = MAX_FEATURES, lower = False)\n",
    "#tokenizer = text.Tokenizer(lower = False)\n",
    "tokenizer.fit_on_texts(list(x_train_new) + list(x_test))"
   ]
  },
  {
   "cell_type": "code",
   "execution_count": 24,
   "metadata": {},
   "outputs": [
    {
     "data": {
      "text/plain": [
       "133304"
      ]
     },
     "execution_count": 24,
     "metadata": {},
     "output_type": "execute_result"
    }
   ],
   "source": [
    "len(tokenizer.word_index)"
   ]
  },
  {
   "cell_type": "code",
   "execution_count": 26,
   "metadata": {},
   "outputs": [],
   "source": [
    "x_train = tokenizer.texts_to_sequences(x_train_new)\n",
    "x_test = tokenizer.texts_to_sequences(x_test)\n",
    "x_train = sequence.pad_sequences(x_train, maxlen=MAX_LEN)\n",
    "x_test = sequence.pad_sequences(x_test, maxlen=MAX_LEN)"
   ]
  },
  {
   "cell_type": "markdown",
   "metadata": {},
   "source": [
    "sample_weights = np.ones(len(x_train), dtype=np.float32)\n",
    "sample_weights += train_df[IDENTITY_COLUMNS].sum(axis=1)\n",
    "sample_weights += train_df[TARGET_COLUMN] * (~train_df[IDENTITY_COLUMNS]).sum(axis=1)\n",
    "sample_weights += (~train_df[TARGET_COLUMN]) * train_df[IDENTITY_COLUMNS].sum(axis=1) * 5\n",
    "sample_weights /= sample_weights.mean()"
   ]
  },
  {
   "cell_type": "code",
   "execution_count": 27,
   "metadata": {},
   "outputs": [
    {
     "name": "stdout",
     "output_type": "stream",
     "text": [
      "n unknown words(crawl):  3312\n",
      "n unknown words(glove):  3351\n"
     ]
    },
    {
     "data": {
      "text/plain": [
       "(50001, 600)"
      ]
     },
     "execution_count": 27,
     "metadata": {},
     "output_type": "execute_result"
    }
   ],
   "source": [
    "embedding_matrix_cl, unknown_words_cl = build_matrix(tokenizer.word_index, EMBEDDING_FILES[0])\n",
    "print('n unknown words(crawl): ', len(unknown_words_cl))\n",
    "embedding_matrix_gl, unknown_words_gl = build_matrix(tokenizer.word_index, EMBEDDING_FILES[1])\n",
    "print('n unknown words(glove): ', len(unknown_words_gl))\n",
    "\n",
    "embedding_matrix = np.concatenate([embedding_matrix_cl, embedding_matrix_gl], axis=-1)\n",
    "\n",
    "del embedding_matrix_cl\n",
    "del embedding_matrix_gl\n",
    "\n",
    "embedding_matrix.shape"
   ]
  },
  {
   "cell_type": "code",
   "execution_count": null,
   "metadata": {},
   "outputs": [
    {
     "name": "stdout",
     "output_type": "stream",
     "text": [
      "Train on 167116 samples, validate on 55706 samples\n",
      "Epoch 1/6\n",
      " - 13489s - loss: 0.3147 - val_loss: 0.4113\n",
      "Epoch 2/6\n",
      " - 17232s - loss: 0.2574 - val_loss: 0.3384\n",
      "Epoch 3/6\n"
     ]
    }
   ],
   "source": [
    "# checkpoint_predictions = []\n",
    "# weights = []\n",
    "# accuracies = []\n",
    "# losses = []\n",
    "# for model_idx in range(NUM_MODELS):\n",
    "#     accuracy = []\n",
    "#     loss = []\n",
    "#     print('\\n\\nmodel:', model_idx,'\\n')\n",
    "#     model = build_model(embedding_matrix, 0)\n",
    "#     for global_epoch in range(EPOCHS):\n",
    "#         hist = model.fit(\n",
    "#             x_train,\n",
    "#             #[y_train, y_aux_train],\n",
    "#             y_train,\n",
    "#             batch_size=BATCH_SIZE,\n",
    "#             epochs=1,\n",
    "#             verbose=2\n",
    "#             #,sample_weight=[sample_weights.values, np.ones_like(sample_weights)]\n",
    "#         )\n",
    "#         checkpoint_predictions.append(model.predict(x_test, batch_size=128).flatten())\n",
    "#         weights.append(2 ** global_epoch)\n",
    "        \n",
    "#         # accuracy\n",
    "#         predictions_encoded = pd.Series(checkpoint_predictions[-1]).apply(lambda x: 0 if x < 0.5 else 1)\n",
    "#         acc = accuracy_score(y_test, predictions_encoded)\n",
    "#         accuracy.append(acc)\n",
    "#         print('accuracy:', acc)\n",
    "        \n",
    "#         # loss\n",
    "#         loss.append(hist.history['loss'][0])\n",
    "        \n",
    "#     accuracies.append(accuracy)\n",
    "#     losses.append(loss)\n",
    "\n",
    "model = build_model(embedding_matrix)\n",
    "hist = model.fit(\n",
    "    x_train,\n",
    "    #[y_train, y_aux_train],\n",
    "    y_train_new,\n",
    "    batch_size=BATCH_SIZE,\n",
    "    epochs=EPOCHS,\n",
    "    verbose=2,\n",
    "    validation_split = VALID_PERCENT\n",
    ")\n",
    "\n",
    "predictions = model.predict(x_test, batch_size=512).flatten()"
   ]
  },
  {
   "cell_type": "code",
   "execution_count": null,
   "metadata": {},
   "outputs": [],
   "source": [
    "predictions_encoded = pd.Series(predictions).apply(lambda x: 0 if x < 0.5 else 1)"
   ]
  },
  {
   "cell_type": "code",
   "execution_count": null,
   "metadata": {},
   "outputs": [],
   "source": [
    "print(accuracy_score(y_test, predictions_encoded))\n",
    "print(precision_score(y_test, predictions_encoded))\n",
    "print(recall_score(y_test, predictions_encoded))\n",
    "print(f1_score(y_test, predictions_encoded))"
   ]
  },
  {
   "cell_type": "code",
   "execution_count": null,
   "metadata": {},
   "outputs": [],
   "source": [
    "predictions = np.average(checkpoint_predictions, weights=weights, axis=0)\n",
    "predictions_encoded = pd.Series(predictions).apply(lambda x: 0 if x < 0.5 else 1)"
   ]
  },
  {
   "cell_type": "code",
   "execution_count": null,
   "metadata": {},
   "outputs": [],
   "source": [
    "\n",
    "\n",
    "match = 0\n",
    "for i in range(500):\n",
    "    if predictions_encoded[i] == y_test[i]:\n",
    "        match += 1"
   ]
  },
  {
   "cell_type": "code",
   "execution_count": null,
   "metadata": {},
   "outputs": [],
   "source": [
    "match / 500"
   ]
  },
  {
   "cell_type": "code",
   "execution_count": null,
   "metadata": {},
   "outputs": [],
   "source": [
    "submission = pd.DataFrame.from_dict({\n",
    "    'id': test_df.id,\n",
    "    'prediction': predictions\n",
    "})\n",
    "submission.to_csv('submission.csv', index=False)"
   ]
  },
  {
   "cell_type": "markdown",
   "metadata": {},
   "source": [
    "Jeffrey Pennington, Richard Socher, and Christopher D. Manning. 2014. GloVe: Global Vectors for Word Representation.https://nlp.stanford.edu/pubs/glove.pdf \n",
    "\n",
    "T. Mikolov, E. Grave, P. Bojanowski, C. Puhrsch, A. Joulin. Advances in Pre-Training Distributed Word Representations. https://arxiv.org/abs/1712.09405"
   ]
  }
 ],
 "metadata": {
  "jupytext": {
   "cell_metadata_filter": "-all",
   "encoding": "# -*- coding: utf-8 -*-",
   "notebook_metadata_filter": "-all",
   "text_representation": {
    "extension": ".py",
    "format_name": "light"
   }
  },
  "kernelspec": {
   "display_name": "Python 3",
   "language": "python",
   "name": "python3"
  },
  "language_info": {
   "codemirror_mode": {
    "name": "ipython",
    "version": 3
   },
   "file_extension": ".py",
   "mimetype": "text/x-python",
   "name": "python",
   "nbconvert_exporter": "python",
   "pygments_lexer": "ipython3",
   "version": "3.7.3"
  }
 },
 "nbformat": 4,
 "nbformat_minor": 4
}
