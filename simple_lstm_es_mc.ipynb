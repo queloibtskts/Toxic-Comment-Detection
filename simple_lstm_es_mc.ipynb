{
 "cells": [
  {
   "cell_type": "code",
   "execution_count": 1,
   "metadata": {},
   "outputs": [
    {
     "name": "stdout",
     "output_type": "stream",
     "text": [
      "2.2.0\n"
     ]
    }
   ],
   "source": [
    "import tensorflow as tf\n",
    "print(tf.__version__)"
   ]
  },
  {
   "cell_type": "code",
   "execution_count": 45,
   "metadata": {},
   "outputs": [],
   "source": [
    "import numpy as np\n",
    "import pandas as pd\n",
    "from keras.models import Model, load_model\n",
    "from keras.layers import Input, Dense, Embedding, SpatialDropout1D, add, concatenate, Dropout\n",
    "from keras.layers import Bidirectional, GlobalMaxPooling1D, GlobalAveragePooling1D, LSTM\n",
    "from keras.preprocessing import text, sequence\n",
    "\n",
    "import tensorflow as tf\n",
    "from sklearn.metrics import accuracy_score, f1_score, recall_score, precision_score\n",
    "from gensim.models import KeyedVectors\n",
    "from keras.callbacks import EarlyStopping, ModelCheckpoint\n"
   ]
  },
  {
   "cell_type": "code",
   "execution_count": 39,
   "metadata": {},
   "outputs": [],
   "source": []
  },
  {
   "cell_type": "code",
   "execution_count": 7,
   "metadata": {},
   "outputs": [],
   "source": [
    "from numpy.random import seed\n",
    "seed(1)\n",
    "\n",
    "tf.random.set_seed(2)"
   ]
  },
  {
   "cell_type": "code",
   "execution_count": 8,
   "metadata": {},
   "outputs": [],
   "source": [
    "def perf_measure(y_actual, y_hat):\n",
    "    TP = 0\n",
    "    FP = 0\n",
    "    TN = 0\n",
    "    FN = 0\n",
    "\n",
    "    for i in range(len(y_hat)): \n",
    "        if y_actual[i]==y_hat[i]==1:\n",
    "               TP += 1\n",
    "        if y_hat[i]==1 and y_actual[i]!=y_hat[i]:\n",
    "               FP += 1\n",
    "        if y_actual[i]==y_hat[i]==0:\n",
    "               TN += 1\n",
    "        if y_hat[i]==0 and y_actual[i]!=y_hat[i]:\n",
    "               FN += 1\n",
    "\n",
    "    return(TP, FP, TN, FN)"
   ]
  },
  {
   "cell_type": "code",
   "execution_count": 58,
   "metadata": {},
   "outputs": [],
   "source": [
    "\n",
    "EMBEDDING_FILES = [\n",
    "    'crawl-300d-2M.gensim',\n",
    "    'glove.840B.300d.gensim'\n",
    "]\n",
    "MAX_FEATURES = 50000 # max number of unique words to keep based on frequency\n",
    "#NUM_MODELS = 2\n",
    "BATCH_SIZE = 512\n",
    "LSTM_UNITS = 128 # output vector dimension of each lstm cell\n",
    "DENSE_HIDDEN_UNITS = 4 * LSTM_UNITS\n",
    "EPOCHS = 20\n",
    "DROPOUT_RATE = 0.5\n",
    "TRAIN_PERCENT = 0.8\n",
    "VALID_PERCENT = 0.25 # 25% from the training set is equiv to 20% from the whole dataset\n",
    "\n",
    "# IDENTITY_COLUMNS = [\n",
    "#     'male', 'female', 'homosexual_gay_or_lesbian', 'christian', 'jewish',\n",
    "#     'muslim', 'black', 'white', 'psychiatric_or_mental_illness'\n",
    "# ]\n",
    "# AUX_COLUMNS = ['target', 'severe_toxicity', 'obscene', 'identity_attack', 'insult', 'threat']\n",
    "TEXT_COLUMN = 'comment_text'\n",
    "TARGET_COLUMN = 'target'\n",
    "# CHARS_TO_REMOVE = '!\"#$%&()*+,-./:;<=>?@[\\\\]^_`{|}~\\t\\n“”’\\'∞θ÷α•à−β∅³π‘₹´°£€\\×™√²—'"
   ]
  },
  {
   "cell_type": "code",
   "execution_count": 10,
   "metadata": {},
   "outputs": [],
   "source": [
    "def build_matrix(word_index, path):\n",
    "    unknown_words = []\n",
    "    embedding_index = KeyedVectors.load(path, mmap='r')\n",
    "    embedding_matrix = np.zeros((MAX_FEATURES + 1, 300))\n",
    "    #embedding_matrix = np.zeros((len(word_index) + 1, 300))\n",
    "    for word, i in word_index.items():\n",
    "        if i <= MAX_FEATURES:\n",
    "            try:\n",
    "                embedding_matrix[i] = embedding_index[word]\n",
    "            except KeyError:\n",
    "                try:\n",
    "                    embedding_matrix[i] = embedding_index[word.lower()]\n",
    "                except KeyError:\n",
    "                    try:\n",
    "                        embedding_matrix[i] = embedding_index[word.title()]\n",
    "                    except KeyError:\n",
    "                        unknown_words.append(word)\n",
    "    return embedding_matrix, unknown_words"
   ]
  },
  {
   "cell_type": "code",
   "execution_count": 11,
   "metadata": {},
   "outputs": [],
   "source": [
    "def build_model(embedding_matrix):\n",
    "#     words = Input(shape=(None,))\n",
    "    words = Input(shape=(MAX_LEN,))\n",
    "    x = Embedding(*embedding_matrix.shape, weights=[embedding_matrix], trainable=False)(words)\n",
    "    #x = Embedding(MAX_FEATURES, weights=[embedding_matrix], trainable=False)(words)\n",
    "    x = SpatialDropout1D(0.2)(x)\n",
    "#     x = Bidirectional(CuDNNLSTM(LSTM_UNITS, return_sequences=True))(x)\n",
    "#     x = Bidirectional(CuDNNLSTM(LSTM_UNITS, return_sequences=True))(x)\n",
    "    x = Bidirectional(LSTM(LSTM_UNITS, return_sequences=True))(x)\n",
    "    x = Bidirectional(LSTM(LSTM_UNITS, return_sequences=True))(x)\n",
    "\n",
    "    hidden = concatenate([\n",
    "        GlobalMaxPooling1D()(x),\n",
    "        GlobalAveragePooling1D()(x),\n",
    "    ])\n",
    "    hidden = add([hidden, Dense(DENSE_HIDDEN_UNITS, activation='relu')(hidden)])\n",
    "    hidden = add([hidden, Dense(DENSE_HIDDEN_UNITS, activation='relu')(hidden)])\n",
    "    result = Dense(1, activation='sigmoid')(hidden)\n",
    "    #aux_result = Dense(num_aux_targets, activation='sigmoid')(hidden)\n",
    "    \n",
    "    model = Model(inputs=words, outputs=[result#, aux_result\n",
    "                                        ])\n",
    "    model.compile(loss='binary_crossentropy', optimizer='adam') #reset learning rate using Adam Optimizer)  \n",
    "\n",
    "    return model"
   ]
  },
  {
   "cell_type": "code",
   "execution_count": 49,
   "metadata": {},
   "outputs": [
    {
     "name": "stderr",
     "output_type": "stream",
     "text": [
      "/home/student.unimelb.edu.au/xiaoyuel4/.local/lib/python3.6/site-packages/numpy/lib/arraysetops.py:580: FutureWarning: elementwise comparison failed; returning scalar instead, but in the future will perform elementwise comparison\n",
      "  mask |= (ar1 == a)\n"
     ]
    },
    {
     "name": "stdout",
     "output_type": "stream",
     "text": [
      "40.395973205566406\n"
     ]
    }
   ],
   "source": [
    "# df = pd.read_csv('sample.csv', index_col = 'id')\n",
    "# print(df.memory_usage().sum() / 1024**2) # MB\n",
    "\n",
    "df = pd.read_csv('comments_preprocessed_1.csv', index_col = 'id')\n",
    "print(df.memory_usage().sum() / 1024**2) # MB"
   ]
  },
  {
   "cell_type": "code",
   "execution_count": 50,
   "metadata": {},
   "outputs": [
    {
     "data": {
      "text/plain": [
       "(1764927, 2)"
      ]
     },
     "execution_count": 50,
     "metadata": {},
     "output_type": "execute_result"
    }
   ],
   "source": [
    "df.shape"
   ]
  },
  {
   "cell_type": "code",
   "execution_count": 51,
   "metadata": {},
   "outputs": [],
   "source": [
    "MAX_LEN = 242 # outter_fence\n",
    "comments = df[TEXT_COLUMN].astype('str')\n",
    "y = df[TARGET_COLUMN].astype(np.int8)\n",
    "\n",
    "non_long_len = comments.apply(lambda x:len(x.split()) <= 242)\n",
    "text_removelong = comments[non_long_len].copy()\n",
    "non_long_len_indices = text_removelong.index\n",
    "y_removelong = y.loc[non_long_len_indices].copy()"
   ]
  },
  {
   "cell_type": "code",
   "execution_count": 52,
   "metadata": {},
   "outputs": [
    {
     "name": "stdout",
     "output_type": "stream",
     "text": [
      "1411933\n"
     ]
    }
   ],
   "source": [
    "train_size = round(y_removelong.shape[0]*TRAIN_PERCENT)\n",
    "print(train_size)\n"
   ]
  },
  {
   "cell_type": "code",
   "execution_count": 53,
   "metadata": {},
   "outputs": [],
   "source": [
    "x_train = text_removelong[:train_size,]\n",
    "y_train = y_removelong[:train_size,]\n",
    "x_test = text_removelong[train_size:,]\n",
    "y_test = y_removelong[train_size:,]"
   ]
  },
  {
   "cell_type": "code",
   "execution_count": 54,
   "metadata": {},
   "outputs": [],
   "source": [
    "\n",
    "tokenizer = text.Tokenizer(num_words = MAX_FEATURES, lower = False)\n",
    "#tokenizer = text.Tokenizer(lower = False)\n",
    "tokenizer.fit_on_texts(list(x_train) + list(x_test))"
   ]
  },
  {
   "cell_type": "code",
   "execution_count": 55,
   "metadata": {},
   "outputs": [
    {
     "data": {
      "text/plain": [
       "242697"
      ]
     },
     "execution_count": 55,
     "metadata": {},
     "output_type": "execute_result"
    }
   ],
   "source": [
    "len(tokenizer.word_index)"
   ]
  },
  {
   "cell_type": "code",
   "execution_count": 59,
   "metadata": {},
   "outputs": [],
   "source": [
    "x_train = tokenizer.texts_to_sequences(x_train)\n",
    "x_test = tokenizer.texts_to_sequences(x_test)\n",
    "x_train = sequence.pad_sequences(x_train, maxlen=MAX_LEN)\n",
    "x_test = sequence.pad_sequences(x_test, maxlen=MAX_LEN)"
   ]
  },
  {
   "cell_type": "code",
   "execution_count": 60,
   "metadata": {},
   "outputs": [
    {
     "name": "stdout",
     "output_type": "stream",
     "text": [
      "n unknown words(crawl):  2860\n",
      "n unknown words(glove):  2940\n"
     ]
    },
    {
     "data": {
      "text/plain": [
       "(50001, 600)"
      ]
     },
     "execution_count": 60,
     "metadata": {},
     "output_type": "execute_result"
    }
   ],
   "source": [
    "embedding_matrix_cl, unknown_words_cl = build_matrix(tokenizer.word_index, EMBEDDING_FILES[0])\n",
    "print('n unknown words(crawl): ', len(unknown_words_cl))\n",
    "embedding_matrix_gl, unknown_words_gl = build_matrix(tokenizer.word_index, EMBEDDING_FILES[1])\n",
    "print('n unknown words(glove): ', len(unknown_words_gl))\n",
    "\n",
    "embedding_matrix = np.concatenate([embedding_matrix_cl, embedding_matrix_gl], axis=-1)\n",
    "\n",
    "del embedding_matrix_cl\n",
    "del embedding_matrix_gl\n",
    "\n",
    "embedding_matrix.shape"
   ]
  },
  {
   "cell_type": "code",
   "execution_count": null,
   "metadata": {},
   "outputs": [],
   "source": [
    "# dropoutrate 0.5\n",
    "\n",
    "model = build_model(embedding_matrix)\n",
    "# simple early stopping\n",
    "es = EarlyStopping(monitor='val_loss', mode='min', verbose=1, patience=2)\n",
    "mc = ModelCheckpoint(filepath='best_model.h5', monitor='val_loss', save_best_only=True, verbose=1)\n",
    "hist = model.fit(\n",
    "    x_train,\n",
    "    #[y_train, y_aux_train],\n",
    "    y_train,\n",
    "    batch_size=BATCH_SIZE,\n",
    "    epochs=EPOCHS,\n",
    "    verbose=1,\n",
    "    validation_split = VALID_PERCENT,\n",
    "    callbacks=[es, mc]\n",
    ")\n",
    "\n",
    "predictions = model.predict(x_test, batch_size=512).flatten()"
   ]
  },
  {
   "cell_type": "code",
   "execution_count": null,
   "metadata": {},
   "outputs": [],
   "source": []
  },
  {
   "cell_type": "code",
   "execution_count": 47,
   "metadata": {},
   "outputs": [
    {
     "name": "stdout",
     "output_type": "stream",
     "text": [
      "Epoch 1/20\n",
      "3/3 [==============================] - ETA: 0s - loss: 0.4296\n",
      "Epoch 00001: val_loss improved from inf to 0.09964, saving model to best_model.h5\n",
      "3/3 [==============================] - 9s 3s/step - loss: 0.4296 - val_loss: 0.0996\n",
      "Epoch 2/20\n",
      "3/3 [==============================] - ETA: 0s - loss: 0.2873\n",
      "Epoch 00002: val_loss did not improve from 0.09964\n",
      "3/3 [==============================] - 17s 6s/step - loss: 0.2873 - val_loss: 0.1044\n",
      "Epoch 00002: early stopping\n"
     ]
    }
   ],
   "source": [
    "# dropoutrate 0.5\n",
    "DROPOUT_RATE = 0.5\n",
    "EPOCHS=20\n",
    "\n",
    "model = build_model(embedding_matrix)\n",
    "# simple early stopping\n",
    "es = EarlyStopping(monitor='val_loss', mode='min', verbose=1, patience=4)\n",
    "mc = ModelCheckpoint(filepath='best_model.h5', monitor='val_loss', save_best_only=True, verbose=1)\n",
    "hist = model.fit(\n",
    "    x_train,\n",
    "    #[y_train, y_aux_train],\n",
    "    y_train,\n",
    "    batch_size=BATCH_SIZE,\n",
    "    epochs=EPOCHS,\n",
    "    verbose=1,\n",
    "    validation_split = VALID_PERCENT,\n",
    "    callbacks=[es, mc]\n",
    ")\n",
    "\n",
    "predictions = model.predict(x_test, batch_size=512).flatten()"
   ]
  },
  {
   "cell_type": "code",
   "execution_count": 26,
   "metadata": {},
   "outputs": [
    {
     "name": "stdout",
     "output_type": "stream",
     "text": [
      "Epoch 1/2\n",
      "3/3 [==============================] - 10s 3s/step - loss: 0.3859 - val_loss: 0.0991\n",
      "Epoch 2/2\n",
      "3/3 [==============================] - 9s 3s/step - loss: 0.2833 - val_loss: 0.1255\n"
     ]
    }
   ],
   "source": [
    "model = build_model(embedding_matrix)\n",
    "hist = model.fit(\n",
    "    x_train,\n",
    "    #[y_train, y_aux_train],\n",
    "    y_train,\n",
    "    batch_size=BATCH_SIZE,\n",
    "    epochs=EPOCHS,\n",
    "    verbose=1,\n",
    "    validation_split = VALID_PERCENT\n",
    ")\n",
    "\n",
    "predictions = model.predict(x_test, batch_size=512).flatten()"
   ]
  },
  {
   "cell_type": "code",
   "execution_count": 36,
   "metadata": {
    "scrolled": true
   },
   "outputs": [
    {
     "name": "stdout",
     "output_type": "stream",
     "text": [
      "Epoch 1/3\n",
      "3/3 [==============================] - 10s 3s/step - loss: 0.4554 - val_loss: 0.1019\n",
      "Epoch 2/3\n",
      "3/3 [==============================] - 8s 3s/step - loss: 0.2900 - val_loss: 0.1117\n",
      "Epoch 3/3\n",
      "3/3 [==============================] - 9s 3s/step - loss: 0.2321 - val_loss: 0.1348\n"
     ]
    }
   ],
   "source": [
    "# dropoutrate 0.8\n",
    "DROPOUT_RATE = 0.8\n",
    "model = build_model(embedding_matrix)\n",
    "hist = model.fit(\n",
    "    x_train,\n",
    "    #[y_train, y_aux_train],\n",
    "    y_train,\n",
    "    batch_size=BATCH_SIZE,\n",
    "    epochs=3,\n",
    "    verbose=1,\n",
    "    validation_split = VALID_PERCENT\n",
    ")\n",
    "\n",
    "predictions = model.predict(x_test, batch_size=512).flatten()"
   ]
  },
  {
   "cell_type": "code",
   "execution_count": 42,
   "metadata": {},
   "outputs": [],
   "source": [
    "saved_model = load_model('best_model.h5')"
   ]
  },
  {
   "cell_type": "code",
   "execution_count": 43,
   "metadata": {},
   "outputs": [
    {
     "data": {
      "text/plain": [
       "<tensorflow.python.keras.engine.training.Model at 0x7f6f7a2f5fd0>"
      ]
     },
     "execution_count": 43,
     "metadata": {},
     "output_type": "execute_result"
    }
   ],
   "source": [
    "saved_model"
   ]
  },
  {
   "cell_type": "code",
   "execution_count": 41,
   "metadata": {},
   "outputs": [
    {
     "data": {
      "text/plain": [
       "{'loss': [0.4225098490715027, 0.2886624038219452, 0.2296716272830963],\n",
       " 'val_loss': [0.10113757848739624, 0.11286519467830658, 0.13625843822956085]}"
      ]
     },
     "execution_count": 41,
     "metadata": {},
     "output_type": "execute_result"
    }
   ],
   "source": [
    "hist.history"
   ]
  }
 ],
 "metadata": {
  "kernelspec": {
   "display_name": "Python 3",
   "language": "python",
   "name": "python3"
  },
  "language_info": {
   "codemirror_mode": {
    "name": "ipython",
    "version": 3
   },
   "file_extension": ".py",
   "mimetype": "text/x-python",
   "name": "python",
   "nbconvert_exporter": "python",
   "pygments_lexer": "ipython3",
   "version": "3.6.9"
  }
 },
 "nbformat": 4,
 "nbformat_minor": 4
}
