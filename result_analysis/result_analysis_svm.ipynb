{
 "cells": [
  {
   "cell_type": "code",
   "execution_count": 1,
   "metadata": {},
   "outputs": [
    {
     "data": {
      "application/javascript": [
       "IPython.notebook.set_autosave_interval(120000)"
      ]
     },
     "metadata": {},
     "output_type": "display_data"
    },
    {
     "name": "stdout",
     "output_type": "stream",
     "text": [
      "Autosaving every 120 seconds\n"
     ]
    }
   ],
   "source": [
    "%autosave 120\n",
    "import numpy as np\n",
    "import pandas as pd\n",
    "from sklearn.metrics import accuracy_score, f1_score, recall_score, precision_score\n",
    "import warnings\n",
    "warnings.filterwarnings(\"ignore\")"
   ]
  },
  {
   "cell_type": "code",
   "execution_count": 2,
   "metadata": {},
   "outputs": [],
   "source": [
    "def perf_measure(y_hat, y_actual):\n",
    "    y_actual = y_actual.to_list()\n",
    "    y_hat = y_hat.to_list()\n",
    "    TP = 0\n",
    "    FP = 0\n",
    "    TN = 0\n",
    "    FN = 0\n",
    "\n",
    "    for i in range(len(y_hat)): \n",
    "        if y_actual[i]==y_hat[i]==1:\n",
    "               TP += 1\n",
    "        if y_hat[i]==1 and y_actual[i]!=y_hat[i]:\n",
    "               FP += 1\n",
    "        if y_actual[i]==y_hat[i]==0:\n",
    "               TN += 1\n",
    "        if y_hat[i]==0 and y_actual[i]!=y_hat[i]:\n",
    "               FN += 1\n",
    "\n",
    "    return(TP, FP, TN, FN)"
   ]
  },
  {
   "cell_type": "code",
   "execution_count": 3,
   "metadata": {},
   "outputs": [],
   "source": [
    "result = pd.read_csv('data/result_svm_8-2.csv')\n",
    "original_train = pd.read_csv('data/train.csv')"
   ]
  },
  {
   "cell_type": "code",
   "execution_count": 4,
   "metadata": {},
   "outputs": [
    {
     "name": "stdout",
     "output_type": "stream",
     "text": [
      "IDENTITY = female\n",
      "number of TP: 264\n",
      "number of FP: 810\n",
      "number of TN: 9726\n",
      "number of FN: 706\n",
      "accuracy: 0.8682\n",
      "precision: 0.2458\n",
      "recall: 0.2722\n",
      "f1: 0.2583\n",
      "false alarm rate =  0.0769\n"
     ]
    }
   ],
   "source": [
    "print('IDENTITY = female')\n",
    "result_female = result[original_train.female.apply(lambda x:x>=0.5)]\n",
    "(TP, FP, TN, FN) = perf_measure(result_female.pred, result_female.target)\n",
    "print('number of TP:', TP)\n",
    "print('number of FP:', FP)\n",
    "print('number of TN:', TN)\n",
    "print('number of FN:', FN)\n",
    "print('accuracy:', round(accuracy_score(result_female.target, result_female.pred), 4))\n",
    "print('precision:',round(precision_score(result_female.target, result_female.pred), 4))\n",
    "print('recall:', round(recall_score(result_female.target, result_female.pred), 4))\n",
    "print('f1:', round(f1_score(result_female.target, result_female.pred), 4))\n",
    "print('false alarm rate = ', round(FP/(FP+TN), 4))"
   ]
  },
  {
   "cell_type": "code",
   "execution_count": 5,
   "metadata": {},
   "outputs": [
    {
     "name": "stdout",
     "output_type": "stream",
     "text": [
      "IDENTITY = asian\n",
      "number of TP: 19\n",
      "number of FP: 45\n",
      "number of TN: 477\n",
      "number of FN: 28\n",
      "accuracy: 0.8717\n",
      "precision: 0.2969\n",
      "recall: 0.4043\n",
      "f1: 0.3423\n",
      "false alarm rate =  0.0862\n"
     ]
    }
   ],
   "source": [
    "print('IDENTITY = asian')\n",
    "result_asian = result[original_train.asian.apply(lambda x:x>=0.5)]\n",
    "(TP, FP, TN, FN) = perf_measure(result_asian.pred, result_asian.target)\n",
    "print('number of TP:', TP)\n",
    "print('number of FP:', FP)\n",
    "print('number of TN:', TN)\n",
    "print('number of FN:', FN)\n",
    "print('accuracy:', round(accuracy_score(result_asian.target, result_asian.pred), 4))\n",
    "print('precision:',round(precision_score(result_asian.target, result_asian.pred), 4))\n",
    "print('recall:', round(recall_score(result_asian.target, result_asian.pred), 4))\n",
    "print('f1:', round(f1_score(result_asian.target, result_asian.pred), 4))\n",
    "print('false alarm rate = ', round(FP/(FP+TN), 4))"
   ]
  },
  {
   "cell_type": "code",
   "execution_count": 6,
   "metadata": {},
   "outputs": [
    {
     "name": "stdout",
     "output_type": "stream",
     "text": [
      "IDENTITY = psychiatric_or_mental_illness\n",
      "number of TP: 28\n",
      "number of FP: 72\n",
      "number of TN: 901\n",
      "number of FN: 67\n",
      "accuracy: 0.8699\n",
      "precision: 0.28\n",
      "recall: 0.2947\n",
      "f1: 0.2872\n",
      "false alarm rate =  0.074\n"
     ]
    }
   ],
   "source": [
    "print('IDENTITY = psychiatric_or_mental_illness')\n",
    "result_pomi = result[original_train.psychiatric_or_mental_illness.apply(lambda x:x>=0.5)] \n",
    "(TP, FP, TN, FN) = perf_measure(result_pomi.pred, result_pomi.target)\n",
    "print('number of TP:', TP)\n",
    "print('number of FP:', FP)\n",
    "print('number of TN:', TN)\n",
    "print('number of FN:', FN)\n",
    "print('accuracy:', round(accuracy_score(result_pomi.target, result_pomi.pred), 4))\n",
    "print('precision:',round(precision_score(result_pomi.target, result_pomi.pred), 4))\n",
    "print('recall:', round(recall_score(result_pomi.target, result_pomi.pred), 4))\n",
    "print('f1:', round(f1_score(result_pomi.target, result_pomi.pred), 4))\n",
    "print('false alarm rate = ', round(FP/(FP+TN), 4))"
   ]
  },
  {
   "cell_type": "code",
   "execution_count": 7,
   "metadata": {},
   "outputs": [
    {
     "name": "stdout",
     "output_type": "stream",
     "text": [
      "IDENTITY = homosexual_gay_or_lesbian\n",
      "number of TP: 49\n",
      "number of FP: 148\n",
      "number of TN: 1586\n",
      "number of FN: 122\n",
      "accuracy: 0.8583\n",
      "precision: 0.2487\n",
      "recall: 0.2865\n",
      "f1: 0.2663\n",
      "false alarm rate =  0.0854\n"
     ]
    }
   ],
   "source": [
    "print('IDENTITY = homosexual_gay_or_lesbian')\n",
    "result_hgol = result[original_train.homosexual_gay_or_lesbian.apply(lambda x:x>=0.5)]\n",
    "(TP, FP, TN, FN) = perf_measure(result_hgol.pred, result_hgol.target)\n",
    "print('number of TP:', TP)\n",
    "print('number of FP:', FP)\n",
    "print('number of TN:', TN)\n",
    "print('number of FN:', FN)\n",
    "print('accuracy:', round(accuracy_score(result_hgol.target, result_hgol.pred), 4))\n",
    "print('precision:',round(precision_score(result_hgol.target, result_hgol.pred), 4))\n",
    "print('recall:', round(recall_score(result_hgol.target, result_hgol.pred), 4))\n",
    "print('f1:', round(f1_score(result_hgol.target, result_hgol.pred), 4))\n",
    "print('false alarm rate = ', round(FP/(FP+TN), 4))"
   ]
  },
  {
   "cell_type": "code",
   "execution_count": 8,
   "metadata": {},
   "outputs": [
    {
     "name": "stdout",
     "output_type": "stream",
     "text": [
      "IDENTITY = black\n",
      "number of TP: 87\n",
      "number of FP: 227\n",
      "number of TN: 2696\n",
      "number of FN: 197\n",
      "accuracy: 0.8678\n",
      "precision: 0.2771\n",
      "recall: 0.3063\n",
      "f1: 0.291\n",
      "false alarm rate =  0.0777\n"
     ]
    }
   ],
   "source": [
    "print('IDENTITY = black')\n",
    "result_black = result[original_train.black.apply(lambda x:x>=0.5)]\n",
    "(TP, FP, TN, FN) = perf_measure(result_black.pred, result_black.target)\n",
    "print('number of TP:', TP)\n",
    "print('number of FP:', FP)\n",
    "print('number of TN:', TN)\n",
    "print('number of FN:', FN)\n",
    "print('accuracy:', round(accuracy_score(result_black.target, result_black.pred), 4))\n",
    "print('precision:',round(precision_score(result_black.target, result_black.pred), 4))\n",
    "print('recall:', round(recall_score(result_black.target, result_black.pred), 4))\n",
    "print('f1:', round(f1_score(result_black.target, result_black.pred), 4))\n",
    "print('false alarm rate = ', round(FP/(FP+TN), 4))"
   ]
  },
  {
   "cell_type": "code",
   "execution_count": null,
   "metadata": {},
   "outputs": [],
   "source": []
  }
 ],
 "metadata": {
  "kernelspec": {
   "display_name": "Python 3",
   "language": "python",
   "name": "python3"
  },
  "language_info": {
   "codemirror_mode": {
    "name": "ipython",
    "version": 3
   },
   "file_extension": ".py",
   "mimetype": "text/x-python",
   "name": "python",
   "nbconvert_exporter": "python",
   "pygments_lexer": "ipython3",
   "version": "3.6.9"
  }
 },
 "nbformat": 4,
 "nbformat_minor": 4
}
