{
 "cells": [
  {
   "cell_type": "code",
   "execution_count": 1,
   "metadata": {},
   "outputs": [
    {
     "data": {
      "application/javascript": [
       "IPython.notebook.set_autosave_interval(120000)"
      ]
     },
     "metadata": {},
     "output_type": "display_data"
    },
    {
     "name": "stdout",
     "output_type": "stream",
     "text": [
      "Autosaving every 120 seconds\n"
     ]
    }
   ],
   "source": [
    "%autosave 120\n",
    "import numpy as np\n",
    "import pandas as pd\n",
    "from sklearn.metrics import accuracy_score, f1_score, recall_score, precision_score\n",
    "import warnings\n",
    "warnings.filterwarnings(\"ignore\")"
   ]
  },
  {
   "cell_type": "code",
   "execution_count": 2,
   "metadata": {},
   "outputs": [],
   "source": [
    "def perf_measure(y_hat, y_actual):\n",
    "    y_actual = y_actual.to_list()\n",
    "    y_hat = y_hat.to_list()\n",
    "    TP = 0\n",
    "    FP = 0\n",
    "    TN = 0\n",
    "    FN = 0\n",
    "\n",
    "    for i in range(len(y_hat)): \n",
    "        if y_actual[i]==y_hat[i]==1:\n",
    "               TP += 1\n",
    "        if y_hat[i]==1 and y_actual[i]!=y_hat[i]:\n",
    "               FP += 1\n",
    "        if y_actual[i]==y_hat[i]==0:\n",
    "               TN += 1\n",
    "        if y_hat[i]==0 and y_actual[i]!=y_hat[i]:\n",
    "               FN += 1\n",
    "\n",
    "    return(TP, FP, TN, FN)"
   ]
  },
  {
   "cell_type": "code",
   "execution_count": 3,
   "metadata": {},
   "outputs": [],
   "source": [
    "result = pd.read_csv('data/result_nb_8-2.csv')\n",
    "original_train = pd.read_csv('data/train.csv')"
   ]
  },
  {
   "cell_type": "code",
   "execution_count": 4,
   "metadata": {},
   "outputs": [
    {
     "name": "stdout",
     "output_type": "stream",
     "text": [
      "IDENTITY = female\n",
      "number of TP: 527\n",
      "number of FP: 645\n",
      "number of TN: 9891\n",
      "number of FN: 443\n",
      "accuracy: 0.9054\n",
      "precision: 0.4497\n",
      "recall: 0.5433\n",
      "f1: 0.4921\n",
      "false alarm rate =  0.0612\n"
     ]
    }
   ],
   "source": [
    "print('IDENTITY = female')\n",
    "result_female = result[original_train.female.apply(lambda x:x>=0.5)] \n",
    "(TP, FP, TN, FN) = perf_measure(result_female.pred, result_female.target)\n",
    "print('number of TP:', TP)\n",
    "print('number of FP:', FP)\n",
    "print('number of TN:', TN)\n",
    "print('number of FN:', FN)\n",
    "print('accuracy:', round(accuracy_score(result_female.target, result_female.pred), 4))\n",
    "print('precision:',round(precision_score(result_female.target, result_female.pred), 4))\n",
    "print('recall:', round(recall_score(result_female.target, result_female.pred), 4))\n",
    "print('f1:', round(f1_score(result_female.target, result_female.pred), 4))\n",
    "print('false alarm rate = ', round(FP/(FP+TN), 4))"
   ]
  },
  {
   "cell_type": "code",
   "execution_count": 5,
   "metadata": {},
   "outputs": [
    {
     "name": "stdout",
     "output_type": "stream",
     "text": [
      "IDENTITY = asian\n",
      "number of TP: 25\n",
      "number of FP: 32\n",
      "number of TN: 490\n",
      "number of FN: 22\n",
      "accuracy: 0.9051\n",
      "precision: 0.4386\n",
      "recall: 0.5319\n",
      "f1: 0.4808\n",
      "false alarm rate =  0.0613\n"
     ]
    }
   ],
   "source": [
    "print('IDENTITY = asian')\n",
    "result_asian = result[original_train.asian.apply(lambda x:x>=0.5)] \n",
    "(TP, FP, TN, FN) = perf_measure(result_asian.pred, result_asian.target)\n",
    "print('number of TP:', TP)\n",
    "print('number of FP:', FP)\n",
    "print('number of TN:', TN)\n",
    "print('number of FN:', FN)\n",
    "print('accuracy:', round(accuracy_score(result_asian.target, result_asian.pred), 4))\n",
    "print('precision:',round(precision_score(result_asian.target, result_asian.pred), 4))\n",
    "print('recall:', round(recall_score(result_asian.target, result_asian.pred), 4))\n",
    "print('f1:', round(f1_score(result_asian.target, result_asian.pred), 4))\n",
    "print('false alarm rate = ', round(FP/(FP+TN), 4))"
   ]
  },
  {
   "cell_type": "code",
   "execution_count": 6,
   "metadata": {},
   "outputs": [
    {
     "name": "stdout",
     "output_type": "stream",
     "text": [
      "IDENTITY = psychiatric_or_mental_illness\n",
      "number of TP: 51\n",
      "number of FP: 48\n",
      "number of TN: 925\n",
      "number of FN: 44\n",
      "accuracy: 0.9139\n",
      "precision: 0.5152\n",
      "recall: 0.5368\n",
      "f1: 0.5258\n",
      "false alarm rate =  0.0493\n"
     ]
    }
   ],
   "source": [
    "print('IDENTITY = psychiatric_or_mental_illness')\n",
    "result_pomi = result[original_train.psychiatric_or_mental_illness.apply(lambda x:x>=0.5)]\n",
    "(TP, FP, TN, FN) = perf_measure(result_pomi.pred, result_pomi.target)\n",
    "print('number of TP:', TP)\n",
    "print('number of FP:', FP)\n",
    "print('number of TN:', TN)\n",
    "print('number of FN:', FN)\n",
    "print('accuracy:', round(accuracy_score(result_pomi.target, result_pomi.pred), 4))\n",
    "print('precision:',round(precision_score(result_pomi.target, result_pomi.pred), 4))\n",
    "print('recall:', round(recall_score(result_pomi.target, result_pomi.pred), 4))\n",
    "print('f1:', round(f1_score(result_pomi.target, result_pomi.pred), 4))\n",
    "print('false alarm rate = ', round(FP/(FP+TN), 4))"
   ]
  },
  {
   "cell_type": "code",
   "execution_count": 7,
   "metadata": {},
   "outputs": [
    {
     "name": "stdout",
     "output_type": "stream",
     "text": [
      "IDENTITY = homosexual_gay_or_lesbian\n",
      "number of TP: 96\n",
      "number of FP: 112\n",
      "number of TN: 1622\n",
      "number of FN: 75\n",
      "accuracy: 0.9018\n",
      "precision: 0.4615\n",
      "recall: 0.5614\n",
      "f1: 0.5066\n",
      "false alarm rate =  0.0646\n"
     ]
    }
   ],
   "source": [
    "print('IDENTITY = homosexual_gay_or_lesbian')\n",
    "result_hgol = result[original_train.homosexual_gay_or_lesbian.apply(lambda x:x>=0.5)]\n",
    "(TP, FP, TN, FN) = perf_measure(result_hgol.pred, result_hgol.target)\n",
    "print('number of TP:', TP)\n",
    "print('number of FP:', FP)\n",
    "print('number of TN:', TN)\n",
    "print('number of FN:', FN)\n",
    "print('accuracy:', round(accuracy_score(result_hgol.target, result_hgol.pred), 4))\n",
    "print('precision:',round(precision_score(result_hgol.target, result_hgol.pred), 4))\n",
    "print('recall:', round(recall_score(result_hgol.target, result_hgol.pred), 4))\n",
    "print('f1:', round(f1_score(result_hgol.target, result_hgol.pred), 4))\n",
    "print('false alarm rate = ', round(FP/(FP+TN), 4))"
   ]
  },
  {
   "cell_type": "code",
   "execution_count": 8,
   "metadata": {},
   "outputs": [
    {
     "name": "stdout",
     "output_type": "stream",
     "text": [
      "IDENTITY = black\n",
      "number of TP: 153\n",
      "number of FP: 175\n",
      "number of TN: 2748\n",
      "number of FN: 131\n",
      "accuracy: 0.9046\n",
      "precision: 0.4665\n",
      "recall: 0.5387\n",
      "f1: 0.5\n",
      "false alarm rate =  0.0599\n"
     ]
    }
   ],
   "source": [
    "print('IDENTITY = black')\n",
    "result_black = result[original_train.black.apply(lambda x:x>=0.5)] \n",
    "(TP, FP, TN, FN) = perf_measure(result_black.pred, result_black.target)\n",
    "print('number of TP:', TP)\n",
    "print('number of FP:', FP)\n",
    "print('number of TN:', TN)\n",
    "print('number of FN:', FN)\n",
    "print('accuracy:', round(accuracy_score(result_black.target, result_black.pred), 4))\n",
    "print('precision:',round(precision_score(result_black.target, result_black.pred), 4))\n",
    "print('recall:', round(recall_score(result_black.target, result_black.pred), 4))\n",
    "print('f1:', round(f1_score(result_black.target, result_black.pred), 4))\n",
    "print('false alarm rate = ', round(FP/(FP+TN), 4))"
   ]
  },
  {
   "cell_type": "code",
   "execution_count": null,
   "metadata": {},
   "outputs": [],
   "source": []
  }
 ],
 "metadata": {
  "kernelspec": {
   "display_name": "Python 3",
   "language": "python",
   "name": "python3"
  },
  "language_info": {
   "codemirror_mode": {
    "name": "ipython",
    "version": 3
   },
   "file_extension": ".py",
   "mimetype": "text/x-python",
   "name": "python",
   "nbconvert_exporter": "python",
   "pygments_lexer": "ipython3",
   "version": "3.6.9"
  }
 },
 "nbformat": 4,
 "nbformat_minor": 4
}
