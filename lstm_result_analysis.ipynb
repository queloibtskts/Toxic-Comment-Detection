{
 "cells": [
  {
   "cell_type": "code",
   "execution_count": 2,
   "metadata": {},
   "outputs": [],
   "source": [
    "import numpy as np\n",
    "import pandas as pd"
   ]
  },
  {
   "cell_type": "code",
   "execution_count": 8,
   "metadata": {},
   "outputs": [],
   "source": [
    "from sklearn.metrics import accuracy_score, f1_score, recall_score, precision_score"
   ]
  },
  {
   "cell_type": "code",
   "execution_count": 5,
   "metadata": {},
   "outputs": [],
   "source": [
    "def perf_measure(y_hat, y_actual):\n",
    "    y_actual = y_actual.to_list()\n",
    "    y_hat = y_hat.to_list()\n",
    "    TP = 0\n",
    "    FP = 0\n",
    "    TN = 0\n",
    "    FN = 0\n",
    "    for i in range(len(y_hat)): \n",
    "        if y_actual[i]==y_hat[i]==1: TP += 1\n",
    "        if y_hat[i]==1 and y_actual[i]!=y_hat[i]: FP += 1\n",
    "        if y_actual[i]==y_hat[i]==0: TN += 1\n",
    "        if y_hat[i]==0 and y_actual[i]!=y_hat[i]: FN += 1\n",
    "    return(TP, FP, TN, FN)"
   ]
  },
  {
   "cell_type": "code",
   "execution_count": 5,
   "metadata": {},
   "outputs": [],
   "source": [
    "result1 = pd.read_csv('result_lstm_batch5000_epoch20es_imbal_nomaxf.csv')\n",
    "result1 = result1.set_index('id').copy()"
   ]
  },
  {
   "cell_type": "code",
   "execution_count": 6,
   "metadata": {},
   "outputs": [],
   "source": [
    "result2 = pd.read_csv('result_lstm_batch512_epoch20es_imbal_nomaxf.csv')\n",
    "result2 = result2.set_index('id').copy()"
   ]
  },
  {
   "cell_type": "code",
   "execution_count": 45,
   "metadata": {},
   "outputs": [
    {
     "data": {
      "text/html": [
       "<div>\n",
       "<style scoped>\n",
       "    .dataframe tbody tr th:only-of-type {\n",
       "        vertical-align: middle;\n",
       "    }\n",
       "\n",
       "    .dataframe tbody tr th {\n",
       "        vertical-align: top;\n",
       "    }\n",
       "\n",
       "    .dataframe thead th {\n",
       "        text-align: right;\n",
       "    }\n",
       "</style>\n",
       "<table border=\"1\" class=\"dataframe\">\n",
       "  <thead>\n",
       "    <tr style=\"text-align: right;\">\n",
       "      <th></th>\n",
       "      <th>lstm_predict</th>\n",
       "      <th>target</th>\n",
       "    </tr>\n",
       "    <tr>\n",
       "      <th>id</th>\n",
       "      <th></th>\n",
       "      <th></th>\n",
       "    </tr>\n",
       "  </thead>\n",
       "  <tbody>\n",
       "    <tr>\n",
       "      <th>5882864</th>\n",
       "      <td>0</td>\n",
       "      <td>0</td>\n",
       "    </tr>\n",
       "    <tr>\n",
       "      <th>5882865</th>\n",
       "      <td>0</td>\n",
       "      <td>0</td>\n",
       "    </tr>\n",
       "    <tr>\n",
       "      <th>5882866</th>\n",
       "      <td>0</td>\n",
       "      <td>0</td>\n",
       "    </tr>\n",
       "    <tr>\n",
       "      <th>5882867</th>\n",
       "      <td>0</td>\n",
       "      <td>0</td>\n",
       "    </tr>\n",
       "    <tr>\n",
       "      <th>5882868</th>\n",
       "      <td>0</td>\n",
       "      <td>0</td>\n",
       "    </tr>\n",
       "    <tr>\n",
       "      <th>5882869</th>\n",
       "      <td>0</td>\n",
       "      <td>0</td>\n",
       "    </tr>\n",
       "    <tr>\n",
       "      <th>5882870</th>\n",
       "      <td>0</td>\n",
       "      <td>0</td>\n",
       "    </tr>\n",
       "    <tr>\n",
       "      <th>5882871</th>\n",
       "      <td>0</td>\n",
       "      <td>0</td>\n",
       "    </tr>\n",
       "    <tr>\n",
       "      <th>5882872</th>\n",
       "      <td>0</td>\n",
       "      <td>0</td>\n",
       "    </tr>\n",
       "    <tr>\n",
       "      <th>5882873</th>\n",
       "      <td>0</td>\n",
       "      <td>0</td>\n",
       "    </tr>\n",
       "  </tbody>\n",
       "</table>\n",
       "</div>"
      ],
      "text/plain": [
       "         lstm_predict  target\n",
       "id                           \n",
       "5882864             0       0\n",
       "5882865             0       0\n",
       "5882866             0       0\n",
       "5882867             0       0\n",
       "5882868             0       0\n",
       "5882869             0       0\n",
       "5882870             0       0\n",
       "5882871             0       0\n",
       "5882872             0       0\n",
       "5882873             0       0"
      ]
     },
     "execution_count": 45,
     "metadata": {},
     "output_type": "execute_result"
    }
   ],
   "source": [
    "result2.head(10)"
   ]
  },
  {
   "cell_type": "code",
   "execution_count": 8,
   "metadata": {},
   "outputs": [],
   "source": [
    "# load\n",
    "\n",
    "original_train = pd.read_csv('train.csv')\n",
    "\n",
    "\n",
    "original_train = original_train.set_index('id').copy()\n",
    "\n"
   ]
  },
  {
   "cell_type": "code",
   "execution_count": 9,
   "metadata": {},
   "outputs": [],
   "source": [
    "# get meta data for testing instances\n",
    "test_meta = original_train.loc[result.index]"
   ]
  },
  {
   "cell_type": "code",
   "execution_count": 11,
   "metadata": {},
   "outputs": [
    {
     "data": {
      "text/html": [
       "<div>\n",
       "<style scoped>\n",
       "    .dataframe tbody tr th:only-of-type {\n",
       "        vertical-align: middle;\n",
       "    }\n",
       "\n",
       "    .dataframe tbody tr th {\n",
       "        vertical-align: top;\n",
       "    }\n",
       "\n",
       "    .dataframe thead th {\n",
       "        text-align: right;\n",
       "    }\n",
       "</style>\n",
       "<table border=\"1\" class=\"dataframe\">\n",
       "  <thead>\n",
       "    <tr style=\"text-align: right;\">\n",
       "      <th></th>\n",
       "      <th>target</th>\n",
       "      <th>comment_text</th>\n",
       "      <th>severe_toxicity</th>\n",
       "      <th>obscene</th>\n",
       "      <th>identity_attack</th>\n",
       "      <th>insult</th>\n",
       "      <th>threat</th>\n",
       "      <th>asian</th>\n",
       "      <th>atheist</th>\n",
       "      <th>bisexual</th>\n",
       "      <th>...</th>\n",
       "      <th>article_id</th>\n",
       "      <th>rating</th>\n",
       "      <th>funny</th>\n",
       "      <th>wow</th>\n",
       "      <th>sad</th>\n",
       "      <th>likes</th>\n",
       "      <th>disagree</th>\n",
       "      <th>sexual_explicit</th>\n",
       "      <th>identity_annotator_count</th>\n",
       "      <th>toxicity_annotator_count</th>\n",
       "    </tr>\n",
       "    <tr>\n",
       "      <th>id</th>\n",
       "      <th></th>\n",
       "      <th></th>\n",
       "      <th></th>\n",
       "      <th></th>\n",
       "      <th></th>\n",
       "      <th></th>\n",
       "      <th></th>\n",
       "      <th></th>\n",
       "      <th></th>\n",
       "      <th></th>\n",
       "      <th></th>\n",
       "      <th></th>\n",
       "      <th></th>\n",
       "      <th></th>\n",
       "      <th></th>\n",
       "      <th></th>\n",
       "      <th></th>\n",
       "      <th></th>\n",
       "      <th></th>\n",
       "      <th></th>\n",
       "      <th></th>\n",
       "    </tr>\n",
       "  </thead>\n",
       "  <tbody>\n",
       "    <tr>\n",
       "      <th>5882864</th>\n",
       "      <td>0.0</td>\n",
       "      <td>My son was molested by his father...a first-ti...</td>\n",
       "      <td>0.0</td>\n",
       "      <td>0.0</td>\n",
       "      <td>0.0</td>\n",
       "      <td>0.0</td>\n",
       "      <td>0.0</td>\n",
       "      <td>NaN</td>\n",
       "      <td>NaN</td>\n",
       "      <td>NaN</td>\n",
       "      <td>...</td>\n",
       "      <td>373123</td>\n",
       "      <td>approved</td>\n",
       "      <td>0</td>\n",
       "      <td>0</td>\n",
       "      <td>0</td>\n",
       "      <td>6</td>\n",
       "      <td>0</td>\n",
       "      <td>0.0</td>\n",
       "      <td>0</td>\n",
       "      <td>4</td>\n",
       "    </tr>\n",
       "    <tr>\n",
       "      <th>5882865</th>\n",
       "      <td>0.0</td>\n",
       "      <td>I sincerely doubt you were as upset at the vit...</td>\n",
       "      <td>0.0</td>\n",
       "      <td>0.0</td>\n",
       "      <td>0.0</td>\n",
       "      <td>0.0</td>\n",
       "      <td>0.0</td>\n",
       "      <td>NaN</td>\n",
       "      <td>NaN</td>\n",
       "      <td>NaN</td>\n",
       "      <td>...</td>\n",
       "      <td>373197</td>\n",
       "      <td>approved</td>\n",
       "      <td>1</td>\n",
       "      <td>0</td>\n",
       "      <td>0</td>\n",
       "      <td>0</td>\n",
       "      <td>0</td>\n",
       "      <td>0.0</td>\n",
       "      <td>0</td>\n",
       "      <td>4</td>\n",
       "    </tr>\n",
       "    <tr>\n",
       "      <th>5882866</th>\n",
       "      <td>0.0</td>\n",
       "      <td>Some governors are complaining about losing​ l...</td>\n",
       "      <td>0.0</td>\n",
       "      <td>0.0</td>\n",
       "      <td>0.0</td>\n",
       "      <td>0.0</td>\n",
       "      <td>0.0</td>\n",
       "      <td>NaN</td>\n",
       "      <td>NaN</td>\n",
       "      <td>NaN</td>\n",
       "      <td>...</td>\n",
       "      <td>373302</td>\n",
       "      <td>approved</td>\n",
       "      <td>1</td>\n",
       "      <td>0</td>\n",
       "      <td>0</td>\n",
       "      <td>0</td>\n",
       "      <td>0</td>\n",
       "      <td>0.0</td>\n",
       "      <td>0</td>\n",
       "      <td>4</td>\n",
       "    </tr>\n",
       "    <tr>\n",
       "      <th>5882867</th>\n",
       "      <td>0.0</td>\n",
       "      <td>Because of  another Constitutional issue; the ...</td>\n",
       "      <td>0.0</td>\n",
       "      <td>0.0</td>\n",
       "      <td>0.0</td>\n",
       "      <td>0.0</td>\n",
       "      <td>0.0</td>\n",
       "      <td>NaN</td>\n",
       "      <td>NaN</td>\n",
       "      <td>NaN</td>\n",
       "      <td>...</td>\n",
       "      <td>373251</td>\n",
       "      <td>approved</td>\n",
       "      <td>0</td>\n",
       "      <td>0</td>\n",
       "      <td>0</td>\n",
       "      <td>3</td>\n",
       "      <td>3</td>\n",
       "      <td>0.0</td>\n",
       "      <td>0</td>\n",
       "      <td>4</td>\n",
       "    </tr>\n",
       "    <tr>\n",
       "      <th>5882868</th>\n",
       "      <td>0.0</td>\n",
       "      <td>And again we come back to an obvious truth, i....</td>\n",
       "      <td>0.0</td>\n",
       "      <td>0.0</td>\n",
       "      <td>0.0</td>\n",
       "      <td>0.0</td>\n",
       "      <td>0.0</td>\n",
       "      <td>NaN</td>\n",
       "      <td>NaN</td>\n",
       "      <td>NaN</td>\n",
       "      <td>...</td>\n",
       "      <td>373233</td>\n",
       "      <td>approved</td>\n",
       "      <td>0</td>\n",
       "      <td>0</td>\n",
       "      <td>0</td>\n",
       "      <td>10</td>\n",
       "      <td>0</td>\n",
       "      <td>0.0</td>\n",
       "      <td>0</td>\n",
       "      <td>4</td>\n",
       "    </tr>\n",
       "  </tbody>\n",
       "</table>\n",
       "<p>5 rows × 44 columns</p>\n",
       "</div>"
      ],
      "text/plain": [
       "         target                                       comment_text  \\\n",
       "id                                                                   \n",
       "5882864     0.0  My son was molested by his father...a first-ti...   \n",
       "5882865     0.0  I sincerely doubt you were as upset at the vit...   \n",
       "5882866     0.0  Some governors are complaining about losing​ l...   \n",
       "5882867     0.0  Because of  another Constitutional issue; the ...   \n",
       "5882868     0.0  And again we come back to an obvious truth, i....   \n",
       "\n",
       "         severe_toxicity  obscene  identity_attack  insult  threat  asian  \\\n",
       "id                                                                          \n",
       "5882864              0.0      0.0              0.0     0.0     0.0    NaN   \n",
       "5882865              0.0      0.0              0.0     0.0     0.0    NaN   \n",
       "5882866              0.0      0.0              0.0     0.0     0.0    NaN   \n",
       "5882867              0.0      0.0              0.0     0.0     0.0    NaN   \n",
       "5882868              0.0      0.0              0.0     0.0     0.0    NaN   \n",
       "\n",
       "         atheist  bisexual  ...  article_id    rating  funny  wow  sad  likes  \\\n",
       "id                          ...                                                 \n",
       "5882864      NaN       NaN  ...      373123  approved      0    0    0      6   \n",
       "5882865      NaN       NaN  ...      373197  approved      1    0    0      0   \n",
       "5882866      NaN       NaN  ...      373302  approved      1    0    0      0   \n",
       "5882867      NaN       NaN  ...      373251  approved      0    0    0      3   \n",
       "5882868      NaN       NaN  ...      373233  approved      0    0    0     10   \n",
       "\n",
       "         disagree  sexual_explicit  identity_annotator_count  \\\n",
       "id                                                             \n",
       "5882864         0              0.0                         0   \n",
       "5882865         0              0.0                         0   \n",
       "5882866         0              0.0                         0   \n",
       "5882867         3              0.0                         0   \n",
       "5882868         0              0.0                         0   \n",
       "\n",
       "         toxicity_annotator_count  \n",
       "id                                 \n",
       "5882864                         4  \n",
       "5882865                         4  \n",
       "5882866                         4  \n",
       "5882867                         4  \n",
       "5882868                         4  \n",
       "\n",
       "[5 rows x 44 columns]"
      ]
     },
     "execution_count": 11,
     "metadata": {},
     "output_type": "execute_result"
    }
   ],
   "source": [
    "test_meta.head()"
   ]
  },
  {
   "cell_type": "code",
   "execution_count": 12,
   "metadata": {},
   "outputs": [
    {
     "data": {
      "text/plain": [
       "Index(['target', 'comment_text', 'severe_toxicity', 'obscene',\n",
       "       'identity_attack', 'insult', 'threat', 'asian', 'atheist', 'bisexual',\n",
       "       'black', 'buddhist', 'christian', 'female', 'heterosexual', 'hindu',\n",
       "       'homosexual_gay_or_lesbian', 'intellectual_or_learning_disability',\n",
       "       'jewish', 'latino', 'male', 'muslim', 'other_disability',\n",
       "       'other_gender', 'other_race_or_ethnicity', 'other_religion',\n",
       "       'other_sexual_orientation', 'physical_disability',\n",
       "       'psychiatric_or_mental_illness', 'transgender', 'white', 'created_date',\n",
       "       'publication_id', 'parent_id', 'article_id', 'rating', 'funny', 'wow',\n",
       "       'sad', 'likes', 'disagree', 'sexual_explicit',\n",
       "       'identity_annotator_count', 'toxicity_annotator_count'],\n",
       "      dtype='object')"
      ]
     },
     "execution_count": 12,
     "metadata": {},
     "output_type": "execute_result"
    }
   ],
   "source": [
    "test_meta.columns"
   ]
  },
  {
   "cell_type": "code",
   "execution_count": 9,
   "metadata": {},
   "outputs": [
    {
     "name": "stdout",
     "output_type": "stream",
     "text": [
      "accuracy: 0.9452\n",
      "precision: 0.6789\n",
      "recall: 0.6733\n",
      "f1: 0.6761\n"
     ]
    }
   ],
   "source": [
    "# result_lstm_batch5000_epoch20es_imbal_nomaxf\n",
    "print('accuracy:', round(accuracy_score(y_true = result1.target, y_pred = result1.lstm_predict), 4))\n",
    "print('precision:',round(precision_score(y_true = result1.target, y_pred = result1.lstm_predict), 4))\n",
    "print('recall:', round(recall_score(y_true = result1.target, y_pred = result1.lstm_predict), 4))\n",
    "print('f1:', round(f1_score(y_true = result1.target, y_pred = result1.lstm_predict), 4))"
   ]
  },
  {
   "cell_type": "code",
   "execution_count": 10,
   "metadata": {},
   "outputs": [
    {
     "name": "stdout",
     "output_type": "stream",
     "text": [
      "accuracy: 0.9495\n",
      "precision: 0.7399\n",
      "recall: 0.6253\n",
      "f1: 0.6778\n"
     ]
    }
   ],
   "source": [
    "# result_lstm_batch512_epoch20es_imbal_nomaxf\n",
    "print('accuracy:', round(accuracy_score(y_true = result2.target, y_pred = result2.lstm_predict), 4))\n",
    "print('precision:',round(precision_score(y_true = result2.target, y_pred = result2.lstm_predict), 4))\n",
    "print('recall:', round(recall_score(y_true = result2.target, y_pred = result2.lstm_predict), 4))\n",
    "print('f1:', round(f1_score(y_true = result2.target, y_pred = result2.lstm_predict), 4))"
   ]
  },
  {
   "cell_type": "code",
   "execution_count": 12,
   "metadata": {},
   "outputs": [],
   "source": [
    "result = result2.copy()"
   ]
  },
  {
   "cell_type": "code",
   "execution_count": 41,
   "metadata": {},
   "outputs": [
    {
     "name": "stdout",
     "output_type": "stream",
     "text": [
      "IDENTITY = female\n",
      "number of TP: 955\n",
      "number of FP: 466\n",
      "number of TN: 9899\n",
      "number of FN: 724\n",
      "accuracy: 0.9012\n",
      "precision: 0.6721\n",
      "recall: 0.5688\n",
      "f1: 0.6161\n",
      "false alarm rate =  0.045\n"
     ]
    }
   ],
   "source": [
    "print('IDENTITY = female')\n",
    "result_identity = result2[test_meta.female.apply(lambda x:x>=0.5)] # female related comment target\n",
    "TP, FP, TN, FN = perf_measure(y_hat = result_identity.lstm_predict, y_actual = result_identity.target)\n",
    "print('number of TP:', TP)\n",
    "print('number of FP:', FP)\n",
    "print('number of TN:', TN)\n",
    "print('number of FN:', FN)\n",
    "print('accuracy:', round(accuracy_score(y_true = result_identity.target, y_pred = result_identity.lstm_predict), 4))\n",
    "print('precision:',round(precision_score(y_true = result_identity.target, y_pred = result_identity.lstm_predict), 4))\n",
    "print('recall:', round(recall_score(y_true = result_identity.target, y_pred = result_identity.lstm_predict), 4))\n",
    "print('f1:', round(f1_score(y_true = result_identity.target, y_pred = result_identity.lstm_predict), 4))\n",
    "print('false alarm rate = ', round(FP/(FP+TN), 4))"
   ]
  },
  {
   "cell_type": "code",
   "execution_count": 25,
   "metadata": {},
   "outputs": [
    {
     "name": "stdout",
     "output_type": "stream",
     "text": [
      "IDENTITY = male\n",
      "number of TP: 1010\n",
      "number of FP: 630\n",
      "number of TN: 7727\n",
      "number of FN: 557\n",
      "accuracy: 0.8804\n",
      "precision: 0.6159\n",
      "recall: 0.6445\n",
      "f1: 0.6299\n",
      "false alarm rate =  0.0754\n"
     ]
    }
   ],
   "source": [
    "print('IDENTITY = male')\n",
    "result_identity = result[test_meta.male.apply(lambda x:x>=0.5)] # male related comment target\n",
    "TP, FP, TN, FN = perf_measure(y_hat = result_identity.lstm_predict, y_actual = result_identity.target)\n",
    "print('number of TP:', TP)\n",
    "print('number of FP:', FP)\n",
    "print('number of TN:', TN)\n",
    "print('number of FN:', FN)\n",
    "print('accuracy:', round(accuracy_score(y_true = result_identity.target, y_pred = result_identity.lstm_predict), 4))\n",
    "print('precision:',round(precision_score(y_true = result_identity.target, y_pred = result_identity.lstm_predict), 4))\n",
    "print('recall:', round(recall_score(y_true = result_identity.target, y_pred = result_identity.lstm_predict), 4))\n",
    "print('f1:', round(f1_score(y_true = result_identity.target, y_pred = result_identity.lstm_predict), 4))\n",
    "print('false alarm rate = ', round(FP/(FP+TN), 4))"
   ]
  },
  {
   "cell_type": "code",
   "execution_count": 42,
   "metadata": {},
   "outputs": [
    {
     "name": "stdout",
     "output_type": "stream",
     "text": [
      "IDENTITY = asian\n",
      "number of TP: 65\n",
      "number of FP: 39\n",
      "number of TN: 693\n",
      "number of FN: 44\n",
      "accuracy: 0.9013\n",
      "precision: 0.625\n",
      "recall: 0.5963\n",
      "f1: 0.6103\n",
      "false alarm rate =  0.0533\n"
     ]
    }
   ],
   "source": [
    "print('IDENTITY = asian')\n",
    "result_identity = result2[test_meta.asian.apply(lambda x:x>=0.5)] # asian related comment target\n",
    "TP, FP, TN, FN = perf_measure(y_hat = result_identity.lstm_predict, y_actual = result_identity.target)\n",
    "print('number of TP:', TP)\n",
    "print('number of FP:', FP)\n",
    "print('number of TN:', TN)\n",
    "print('number of FN:', FN)\n",
    "print('accuracy:', round(accuracy_score(y_true = result_identity.target, y_pred = result_identity.lstm_predict), 4))\n",
    "print('precision:',round(precision_score(y_true = result_identity.target, y_pred = result_identity.lstm_predict), 4))\n",
    "print('recall:', round(recall_score(y_true = result_identity.target, y_pred = result_identity.lstm_predict), 4))\n",
    "print('f1:', round(f1_score(y_true = result_identity.target, y_pred = result_identity.lstm_predict), 4))\n",
    "print('false alarm rate = ', round(FP/(FP+TN), 4))"
   ]
  },
  {
   "cell_type": "code",
   "execution_count": 27,
   "metadata": {},
   "outputs": [
    {
     "name": "stdout",
     "output_type": "stream",
     "text": [
      "IDENTITY = psychiatric_or_mental_illness\n",
      "number of TP: 156\n",
      "number of FP: 88\n",
      "number of TN: 712\n",
      "number of FN: 67\n",
      "accuracy: 0.8485\n",
      "precision: 0.6393\n",
      "recall: 0.6996\n",
      "f1: 0.6681\n",
      "false alarm rate =  0.11\n"
     ]
    }
   ],
   "source": [
    "print('IDENTITY = psychiatric_or_mental_illness')\n",
    "result_identity = result[test_meta.psychiatric_or_mental_illness.apply(lambda x:x>=0.5)] # psychiatric related comment target\n",
    "TP, FP, TN, FN = perf_measure(y_hat = result_identity.lstm_predict, y_actual = result_identity.target)\n",
    "print('number of TP:', TP)\n",
    "print('number of FP:', FP)\n",
    "print('number of TN:', TN)\n",
    "print('number of FN:', FN)\n",
    "print('accuracy:', round(accuracy_score(y_true = result_identity.target, y_pred = result_identity.lstm_predict), 4))\n",
    "print('precision:',round(precision_score(y_true = result_identity.target, y_pred = result_identity.lstm_predict), 4))\n",
    "print('recall:', round(recall_score(y_true = result_identity.target, y_pred = result_identity.lstm_predict), 4))\n",
    "print('f1:', round(f1_score(y_true = result_identity.target, y_pred = result_identity.lstm_predict), 4))\n",
    "print('false alarm rate = ', round(FP/(FP+TN), 4))"
   ]
  },
  {
   "cell_type": "code",
   "execution_count": 43,
   "metadata": {},
   "outputs": [
    {
     "name": "stdout",
     "output_type": "stream",
     "text": [
      "IDENTITY = homosexual_gay_or_lesbian\n",
      "number of TP: 367\n",
      "number of FP: 162\n",
      "number of TN: 1665\n",
      "number of FN: 381\n",
      "accuracy: 0.7891\n",
      "precision: 0.6938\n",
      "recall: 0.4906\n",
      "f1: 0.5748\n",
      "false alarm rate =  0.0887\n"
     ]
    }
   ],
   "source": [
    "print('IDENTITY = homosexual_gay_or_lesbian')\n",
    "result_identity = result2[test_meta.homosexual_gay_or_lesbian.apply(lambda x:x>=0.5)] # homosexual related comment target\n",
    "TP, FP, TN, FN = perf_measure(y_hat = result_identity.lstm_predict, y_actual = result_identity.target)\n",
    "print('number of TP:', TP)\n",
    "print('number of FP:', FP)\n",
    "print('number of TN:', TN)\n",
    "print('number of FN:', FN)\n",
    "print('accuracy:', round(accuracy_score(y_true = result_identity.target, y_pred = result_identity.lstm_predict), 4))\n",
    "print('precision:',round(precision_score(y_true = result_identity.target, y_pred = result_identity.lstm_predict), 4))\n",
    "print('recall:', round(recall_score(y_true = result_identity.target, y_pred = result_identity.lstm_predict), 4))\n",
    "print('f1:', round(f1_score(y_true = result_identity.target, y_pred = result_identity.lstm_predict), 4))\n",
    "print('false alarm rate = ', round(FP/(FP+TN), 4))"
   ]
  },
  {
   "cell_type": "code",
   "execution_count": 44,
   "metadata": {},
   "outputs": [
    {
     "name": "stdout",
     "output_type": "stream",
     "text": [
      "IDENTITY = black\n",
      "number of TP: 878\n",
      "number of FP: 358\n",
      "number of TN: 2337\n",
      "number of FN: 553\n",
      "accuracy: 0.7792\n",
      "precision: 0.7104\n",
      "recall: 0.6136\n",
      "f1: 0.6584\n",
      "false alarm rate =  0.1328\n"
     ]
    }
   ],
   "source": [
    "print('IDENTITY = black')\n",
    "result_identity = result2[test_meta.black.apply(lambda x:x>=0.5)] # black related comment target\n",
    "TP, FP, TN, FN = perf_measure(y_hat = result_identity.lstm_predict, y_actual = result_identity.target)\n",
    "print('number of TP:', TP)\n",
    "print('number of FP:', FP)\n",
    "print('number of TN:', TN)\n",
    "print('number of FN:', FN)\n",
    "print('accuracy:', round(accuracy_score(y_true = result_identity.target, y_pred = result_identity.lstm_predict), 4))\n",
    "print('precision:',round(precision_score(y_true = result_identity.target, y_pred = result_identity.lstm_predict), 4))\n",
    "print('recall:', round(recall_score(y_true = result_identity.target, y_pred = result_identity.lstm_predict), 4))\n",
    "print('f1:', round(f1_score(y_true = result_identity.target, y_pred = result_identity.lstm_predict), 4))\n",
    "print('false alarm rate = ', round(FP/(FP+TN), 4))"
   ]
  }
 ],
 "metadata": {
  "kernelspec": {
   "display_name": "Python 3",
   "language": "python",
   "name": "python3"
  },
  "language_info": {
   "codemirror_mode": {
    "name": "ipython",
    "version": 3
   },
   "file_extension": ".py",
   "mimetype": "text/x-python",
   "name": "python",
   "nbconvert_exporter": "python",
   "pygments_lexer": "ipython3",
   "version": "3.6.9"
  }
 },
 "nbformat": 4,
 "nbformat_minor": 4
}
