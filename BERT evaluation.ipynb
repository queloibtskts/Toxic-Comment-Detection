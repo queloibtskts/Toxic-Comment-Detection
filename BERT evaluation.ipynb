{
 "cells": [
  {
   "cell_type": "code",
   "execution_count": 47,
   "metadata": {},
   "outputs": [],
   "source": [
    "import pandas as pd\n",
    "from sklearn.metrics import accuracy_score, f1_score, recall_score, precision_score\n",
    "import numpy as np"
   ]
  },
  {
   "cell_type": "code",
   "execution_count": 21,
   "metadata": {},
   "outputs": [],
   "source": [
    "output = pd.read_csv('actual_prediction.csv')\n",
    "original_df = pd.read_csv('train copy.csv')"
   ]
  },
  {
   "cell_type": "code",
   "execution_count": 19,
   "metadata": {},
   "outputs": [],
   "source": [
    "df = df.set_index('id').copy()"
   ]
  },
  {
   "cell_type": "code",
   "execution_count": 31,
   "metadata": {},
   "outputs": [],
   "source": [
    "output.rename(columns={'Unnamed: 0': 'id'}, inplace = True)"
   ]
  },
  {
   "cell_type": "code",
   "execution_count": 33,
   "metadata": {},
   "outputs": [],
   "source": [
    "output = output.set_index('id').copy()"
   ]
  },
  {
   "cell_type": "code",
   "execution_count": 37,
   "metadata": {},
   "outputs": [],
   "source": [
    "meta_data = original_df.loc[output.index]"
   ]
  },
  {
   "cell_type": "code",
   "execution_count": 43,
   "metadata": {},
   "outputs": [
    {
     "data": {
      "text/plain": [
       "Index(['id', 'target', 'comment_text', 'severe_toxicity', 'obscene',\n",
       "       'identity_attack', 'insult', 'threat', 'asian', 'atheist', 'bisexual',\n",
       "       'black', 'buddhist', 'christian', 'female', 'heterosexual', 'hindu',\n",
       "       'homosexual_gay_or_lesbian', 'intellectual_or_learning_disability',\n",
       "       'jewish', 'latino', 'male', 'muslim', 'other_disability',\n",
       "       'other_gender', 'other_race_or_ethnicity', 'other_religion',\n",
       "       'other_sexual_orientation', 'physical_disability',\n",
       "       'psychiatric_or_mental_illness', 'transgender', 'white', 'created_date',\n",
       "       'publication_id', 'parent_id', 'article_id', 'rating', 'funny', 'wow',\n",
       "       'sad', 'likes', 'disagree', 'sexual_explicit',\n",
       "       'identity_annotator_count', 'toxicity_annotator_count'],\n",
       "      dtype='object')"
      ]
     },
     "execution_count": 43,
     "metadata": {},
     "output_type": "execute_result"
    }
   ],
   "source": [
    "meta_data.columns"
   ]
  },
  {
   "cell_type": "code",
   "execution_count": 48,
   "metadata": {},
   "outputs": [],
   "source": [
    "def perf_measure(y_actual, y_hat):\n",
    "    y_actual = y_actual.to_list()\n",
    "    y_hat = y_hat.to_list()\n",
    "    TP = 0\n",
    "    FP = 0\n",
    "    TN = 0\n",
    "    FN = 0\n",
    "\n",
    "    for i in range(len(y_hat)): \n",
    "        if y_actual[i]==y_hat[i]==1:\n",
    "               TP += 1\n",
    "        if y_hat[i]==1 and y_actual[i]!=y_hat[i]:\n",
    "               FP += 1\n",
    "        if y_actual[i]==y_hat[i]==0:\n",
    "               TN += 1\n",
    "        if y_hat[i]==0 and y_actual[i]!=y_hat[i]:\n",
    "               FN += 1\n",
    "\n",
    "    return(TP, FP, TN, FN)"
   ]
  },
  {
   "cell_type": "code",
   "execution_count": 51,
   "metadata": {},
   "outputs": [
    {
     "name": "stdout",
     "output_type": "stream",
     "text": [
      "accuracy: 0.9371\n",
      "precision: 0.5582\n",
      "recall: 0.6672\n",
      "f1: 0.6079\n",
      "false alarm rate =  0.0417\n"
     ]
    }
   ],
   "source": [
    "result_female = output[meta_data.female.apply(lambda x:x>=0.5)]\n",
    "(TP, FP, TN, FN) = perf_measure(result_female.y_pred, result_female.label)\n",
    "print('accuracy:', round(accuracy_score(result_female.y_pred, result_female.label), 4))\n",
    "print('precision:',round(precision_score(result_female.y_pred, result_female.label), 4))\n",
    "print('recall:', round(recall_score(result_female.y_pred, result_female.label), 4))\n",
    "print('f1:', round(f1_score(result_female.y_pred, result_female.label), 4))\n",
    "print('false alarm rate = ', round(FP/(FP+TN), 4))"
   ]
  },
  {
   "cell_type": "code",
   "execution_count": 52,
   "metadata": {},
   "outputs": [
    {
     "name": "stdout",
     "output_type": "stream",
     "text": [
      "accuracy: 0.9383\n",
      "precision: 0.5584\n",
      "recall: 0.691\n",
      "f1: 0.6177\n",
      "false alarm rate =  0.0425\n"
     ]
    }
   ],
   "source": [
    "result_female = output[meta_data.male.apply(lambda x:x>=0.5)]\n",
    "(TP, FP, TN, FN) = perf_measure(result_female.y_pred, result_female.label)\n",
    "print('accuracy:', round(accuracy_score(result_female.y_pred, result_female.label), 4))\n",
    "print('precision:',round(precision_score(result_female.y_pred, result_female.label), 4))\n",
    "print('recall:', round(recall_score(result_female.y_pred, result_female.label), 4))\n",
    "print('f1:', round(f1_score(result_female.y_pred, result_female.label), 4))\n",
    "print('false alarm rate = ', round(FP/(FP+TN), 4))"
   ]
  },
  {
   "cell_type": "code",
   "execution_count": 53,
   "metadata": {},
   "outputs": [
    {
     "name": "stdout",
     "output_type": "stream",
     "text": [
      "accuracy: 0.9438\n",
      "precision: 0.4848\n",
      "recall: 0.5926\n",
      "f1: 0.5333\n",
      "false alarm rate =  0.0361\n"
     ]
    }
   ],
   "source": [
    "result_female = output[meta_data.asian.apply(lambda x:x>=0.5)]\n",
    "(TP, FP, TN, FN) = perf_measure(result_female.y_pred, result_female.label)\n",
    "print('accuracy:', round(accuracy_score(result_female.y_pred, result_female.label), 4))\n",
    "print('precision:',round(precision_score(result_female.y_pred, result_female.label), 4))\n",
    "print('recall:', round(recall_score(result_female.y_pred, result_female.label), 4))\n",
    "print('f1:', round(f1_score(result_female.y_pred, result_female.label), 4))\n",
    "print('false alarm rate = ', round(FP/(FP+TN), 4))"
   ]
  },
  {
   "cell_type": "code",
   "execution_count": 54,
   "metadata": {},
   "outputs": [
    {
     "name": "stdout",
     "output_type": "stream",
     "text": [
      "accuracy: 0.9453\n",
      "precision: 0.5844\n",
      "recall: 0.7377\n",
      "f1: 0.6522\n",
      "false alarm rate =  0.0392\n"
     ]
    }
   ],
   "source": [
    "result_female = output[meta_data.psychiatric_or_mental_illness.apply(lambda x:x>=0.5)]\n",
    "(TP, FP, TN, FN) = perf_measure(result_female.y_pred, result_female.label)\n",
    "print('accuracy:', round(accuracy_score(result_female.y_pred, result_female.label), 4))\n",
    "print('precision:',round(precision_score(result_female.y_pred, result_female.label), 4))\n",
    "print('recall:', round(recall_score(result_female.y_pred, result_female.label), 4))\n",
    "print('f1:', round(f1_score(result_female.y_pred, result_female.label), 4))\n",
    "print('false alarm rate = ', round(FP/(FP+TN), 4))"
   ]
  },
  {
   "cell_type": "code",
   "execution_count": 55,
   "metadata": {},
   "outputs": [
    {
     "name": "stdout",
     "output_type": "stream",
     "text": [
      "accuracy: 0.9396\n",
      "precision: 0.5514\n",
      "recall: 0.6705\n",
      "f1: 0.6051\n",
      "false alarm rate =  0.0404\n"
     ]
    }
   ],
   "source": [
    "result_female = output[meta_data.homosexual_gay_or_lesbian.apply(lambda x:x>=0.5)]\n",
    "(TP, FP, TN, FN) = perf_measure(result_female.y_pred, result_female.label)\n",
    "print('accuracy:', round(accuracy_score(result_female.y_pred, result_female.label), 4))\n",
    "print('precision:',round(precision_score(result_female.y_pred, result_female.label), 4))\n",
    "print('recall:', round(recall_score(result_female.y_pred, result_female.label), 4))\n",
    "print('f1:', round(f1_score(result_female.y_pred, result_female.label), 4))\n",
    "print('false alarm rate = ', round(FP/(FP+TN), 4))"
   ]
  },
  {
   "cell_type": "code",
   "execution_count": 56,
   "metadata": {},
   "outputs": [
    {
     "name": "stdout",
     "output_type": "stream",
     "text": [
      "accuracy: 0.9387\n",
      "precision: 0.5714\n",
      "recall: 0.6891\n",
      "f1: 0.6248\n",
      "false alarm rate =  0.0414\n"
     ]
    }
   ],
   "source": [
    "result_female = output[meta_data.black.apply(lambda x:x>=0.5)]\n",
    "(TP, FP, TN, FN) = perf_measure(result_female.y_pred, result_female.label)\n",
    "print('accuracy:', round(accuracy_score(result_female.y_pred, result_female.label), 4))\n",
    "print('precision:',round(precision_score(result_female.y_pred, result_female.label), 4))\n",
    "print('recall:', round(recall_score(result_female.y_pred, result_female.label), 4))\n",
    "print('f1:', round(f1_score(result_female.y_pred, result_female.label), 4))\n",
    "print('false alarm rate = ', round(FP/(FP+TN), 4))"
   ]
  },
  {
   "cell_type": "code",
   "execution_count": null,
   "metadata": {},
   "outputs": [],
   "source": []
  }
 ],
 "metadata": {
  "kernelspec": {
   "display_name": "Python 3",
   "language": "python",
   "name": "python3"
  },
  "language_info": {
   "codemirror_mode": {
    "name": "ipython",
    "version": 3
   },
   "file_extension": ".py",
   "mimetype": "text/x-python",
   "name": "python",
   "nbconvert_exporter": "python",
   "pygments_lexer": "ipython3",
   "version": "3.6.9"
  }
 },
 "nbformat": 4,
 "nbformat_minor": 4
}
